{
 "cells": [
  {
   "cell_type": "markdown",
   "id": "7302903a",
   "metadata": {},
   "source": [
    "# Imports"
   ]
  },
  {
   "cell_type": "code",
   "execution_count": 1,
   "id": "195cf134",
   "metadata": {},
   "outputs": [
    {
     "name": "stdout",
     "output_type": "stream",
     "text": [
      "Currently using cuda\n"
     ]
    }
   ],
   "source": [
    "import os\n",
    "import json\n",
    "import random\n",
    "import subprocess\n",
    "from collections import defaultdict\n",
    "\n",
    "import cv2\n",
    "import numpy as np\n",
    "import pandas as pd\n",
    "import matplotlib.pyplot as plt\n",
    "from sklearn.tree import DecisionTreeClassifier, export_graphviz\n",
    "from sklearn.metrics import precision_score\n",
    "from sklearn.model_selection import train_test_split\n",
    "import optuna\n",
    "import torch\n",
    "import torch.nn as nn\n",
    "from torch.utils.data import Dataset, DataLoader\n",
    "from sklearn.metrics import confusion_matrix\n",
    "import seaborn as sns\n",
    "\n",
    "from utils.Loader import CardsDataset\n",
    "from arquitecture.CardsClassifier import CardClassifier\n",
    "from utils.AttentionGradCam import AttentionGradCAM\n",
    "\n",
    "DEVICE = torch.device(\"cuda\" if torch.cuda.is_available() else \"cpu\")\n",
    "print(\"Currently using\", DEVICE)"
   ]
  },
  {
   "cell_type": "markdown",
   "id": "9ebce926",
   "metadata": {},
   "source": [
    "# Hyperparameters"
   ]
  },
  {
   "cell_type": "code",
   "execution_count": 2,
   "id": "c0ba70dd",
   "metadata": {},
   "outputs": [],
   "source": [
    "EPOCH = 300\n",
    "BATCH_SIZE = 2400\n",
    "NUN_WORKERS = 6\n",
    "LR = 0.0004\n",
    "N_TRIALS = 100\n",
    "SEED = 55"
   ]
  },
  {
   "cell_type": "markdown",
   "id": "ff48df7d",
   "metadata": {},
   "source": [
    "# Load the pretrained models"
   ]
  },
  {
   "cell_type": "code",
   "execution_count": 3,
   "id": "8bcda49b",
   "metadata": {},
   "outputs": [
    {
     "name": "stdout",
     "output_type": "stream",
     "text": [
      "256845\n",
      "4\n"
     ]
    }
   ],
   "source": [
    "csv_file = \"cards.csv\"\n",
    "target = \"suit\"\n",
    "\n",
    "suit_train_dataset = CardsDataset(scale=0.6, split=\"train\", csv_file=csv_file, target=target)\n",
    "suit_test_dataset = CardsDataset(scale=0.6, split=\"test\", csv_file=csv_file, target=target)\n",
    "suit_valid_dataset = CardsDataset(scale=0.6, split=\"valid\", csv_file=csv_file, target=target)\n",
    "\n",
    "suit_train_loader = DataLoader(suit_train_dataset, batch_size=BATCH_SIZE, shuffle=True, num_workers=NUN_WORKERS)\n",
    "suit_valid_loader = DataLoader(suit_valid_dataset, batch_size=BATCH_SIZE, shuffle=True, num_workers=NUN_WORKERS)\n",
    "suit_test_loader  = DataLoader(suit_test_dataset,  batch_size=BATCH_SIZE, shuffle=True, num_workers=NUN_WORKERS)\n",
    "\n",
    "_, label = suit_test_dataset.__getitem__(1)\n",
    "\n",
    "suit_classifier = CardClassifier(image_size=torch.Size((134, 134)), \n",
    "                            convolution_structure=[1,8,8,16,16,24,24,32,32],\n",
    "                            expert_output_len=3,\n",
    "                            expert_depth=4,\n",
    "                            output_len=len(label),\n",
    "                            pool_depth=2\n",
    "                            ).to(DEVICE)\n",
    "\n",
    "print(suit_classifier.n_parameters())\n",
    "print(len(label))"
   ]
  },
  {
   "cell_type": "code",
   "execution_count": 4,
   "id": "94f8b7ab",
   "metadata": {},
   "outputs": [
    {
     "name": "stdout",
     "output_type": "stream",
     "text": [
      "13\n"
     ]
    }
   ],
   "source": [
    "csv_file = \"cards.csv\"\n",
    "target = \"category\"\n",
    "\n",
    "category_train_dataset = CardsDataset(scale=0.6, split=\"train\", csv_file=csv_file, target=target)\n",
    "category_test_dataset = CardsDataset(scale=0.6, split=\"test\", csv_file=csv_file, target=target)\n",
    "category_valid_dataset = CardsDataset(scale=0.6, split=\"valid\", csv_file=csv_file, target=target)\n",
    "\n",
    "category_train_loader = DataLoader(category_train_dataset, batch_size=BATCH_SIZE, shuffle=True, num_workers=NUN_WORKERS)\n",
    "category_valid_loader = DataLoader(category_valid_dataset, batch_size=BATCH_SIZE, shuffle=True, num_workers=NUN_WORKERS)\n",
    "category_test_loader  = DataLoader(category_test_dataset,  batch_size=BATCH_SIZE, shuffle=True, num_workers=NUN_WORKERS)\n",
    "\n",
    "_, label = category_test_dataset.__getitem__(1)\n",
    "\n",
    "category_classifier = CardClassifier(image_size=torch.Size((134, 134)), \n",
    "                            convolution_structure=[1,12,12,16,16,24,24,32,32],\n",
    "                            expert_output_len=3, # 3  -> 0.7\n",
    "                            expert_depth=5,\n",
    "                            output_len=len(label),\n",
    "                            pool_depth=2\n",
    "                            ).to(DEVICE)\n",
    "\n",
    "print(len(label))"
   ]
  },
  {
   "cell_type": "code",
   "execution_count": 5,
   "id": "85a2934b",
   "metadata": {},
   "outputs": [
    {
     "name": "stdout",
     "output_type": "stream",
     "text": [
      "256845\n",
      "259058\n"
     ]
    }
   ],
   "source": [
    "print(suit_classifier.n_parameters())\n",
    "print(category_classifier.n_parameters())"
   ]
  },
  {
   "cell_type": "code",
   "execution_count": 6,
   "id": "937304cd",
   "metadata": {},
   "outputs": [
    {
     "name": "stdout",
     "output_type": "stream",
     "text": [
      "Loaded models\n"
     ]
    }
   ],
   "source": [
    "\n",
    "category_checkpoint = torch.load(\"models/checkpoints/category_classifier_checkpoint.pth\")\n",
    "category_classifier.load_state_dict(category_checkpoint['model_state_dict'])\n",
    "category_classifier.eval()\n",
    "category_classifier.to(DEVICE)\n",
    "\n",
    "suit_checkpoint = torch.load(\"models/checkpoints/suit_classifier_checkpoint.pth\")\n",
    "suit_classifier.load_state_dict(suit_checkpoint['model_state_dict'])\n",
    "suit_classifier.eval()\n",
    "suit_classifier.to(DEVICE)\n",
    "\n",
    "print(\"Loaded models\")"
   ]
  },
  {
   "cell_type": "markdown",
   "id": "c028ee29",
   "metadata": {},
   "source": [
    "# GradCam"
   ]
  },
  {
   "cell_type": "code",
   "execution_count": 7,
   "id": "7f7186a3",
   "metadata": {},
   "outputs": [],
   "source": [
    "def generateGradCam(result_path: str, split: str, sample_size: int, model: nn.Module, dataset: Dataset):\n",
    "    target_layer = model.cnn_block.layers[-1]\n",
    "    attention_layer = model.attention_block.batch_norm\n",
    "    grad_cam = AttentionGradCAM(model, target_layer, attention_layer)\n",
    "\n",
    "    # Dict to organize the dictionaries\n",
    "    indices_por_label = defaultdict(list)\n",
    "    for idx in range(len(dataset)):\n",
    "        _, label = dataset[idx]\n",
    "        if hasattr(label, 'argmax'):\n",
    "            label_int = label.argmax(dim=0).item()\n",
    "        else:\n",
    "            label_int = label\n",
    "        indices_por_label[label_int].append(idx)\n",
    "\n",
    "    # For each categorie get at least a sample of the sample_size\n",
    "    for label_val, indices in indices_por_label.items():\n",
    "        if len(indices) > sample_size:\n",
    "            sample_indices = random.sample(indices, sample_size)\n",
    "        else:\n",
    "            sample_indices = indices\n",
    "\n",
    "        # Create subplots\n",
    "        fig, axes = plt.subplots(nrows=len(sample_indices), ncols=2, figsize=(10, 2 * len(sample_indices)))\n",
    "        fig.suptitle(f\"Category {(label_val)}\", fontsize=16)\n",
    "\n",
    "        # Just if the there is only one subplot\n",
    "        if len(sample_indices) == 1:\n",
    "            axes = np.expand_dims(axes, axis=0)\n",
    "\n",
    "        for i, idx in enumerate(sample_indices):\n",
    "            img, _ = dataset[idx]\n",
    "            input_tensor = img.unsqueeze(0).to(DEVICE)\n",
    "            cam, predicted_class = grad_cam.generate_cam(input_tensor)\n",
    "\n",
    "            # Resize the heatmap into the image size\n",
    "            cam = cv2.resize(cam, (img.shape[-1], img.shape[-2]))\n",
    "\n",
    "            # Parse the heatmap into rgb\n",
    "            heatmap = cv2.applyColorMap(np.uint8(255 * cam), cv2.COLORMAP_JET)\n",
    "            heatmap = cv2.cvtColor(heatmap, cv2.COLOR_BGR2RGB)\n",
    "\n",
    "            # Parse the image into rgb instead of grey scale\n",
    "            img_np = img.squeeze().cpu().numpy()\n",
    "            img_np = cv2.cvtColor(np.uint8(255 * img_np), cv2.COLOR_GRAY2RGB)\n",
    "\n",
    "            # Overlab the heatmap\n",
    "            superimposed_img = cv2.addWeighted(heatmap, 0.4, img_np, 0.6, 0)\n",
    "\n",
    "            # Show the original image\n",
    "            axes[i, 0].imshow(img_np)\n",
    "            axes[i, 0].set_title(f\"Original (class {(label_val)})\")\n",
    "            axes[i, 0].axis(\"off\")\n",
    "\n",
    "            # Show the gradcam \n",
    "            axes[i, 1].imshow(superimposed_img)\n",
    "            axes[i, 1].set_title(f\"Grad-CAM (prediction {(predicted_class)})\")\n",
    "            axes[i, 1].axis(\"off\")\n",
    "\n",
    "        plt.tight_layout(rect=[0, 0, 1, 0.95])\n",
    "        os.makedirs(f\"{result_path}/{split}/GradCam/\", exist_ok=True)\n",
    "        plt.savefig(f\"{result_path}/{split}/GradCam/GradCam_{(label_val)}.png\")\n",
    "        \n",
    "        plt.close()"
   ]
  },
  {
   "cell_type": "code",
   "execution_count": 8,
   "id": "7d1663f9",
   "metadata": {},
   "outputs": [
    {
     "name": "stderr",
     "output_type": "stream",
     "text": [
      "/home/lingfeng/Desktop/venvs/pytorch/lib/python3.12/site-packages/torch/nn/modules/module.py:1842: FutureWarning: Using a non-full backward hook when the forward contains multiple autograd Nodes is deprecated and will be removed in future versions. This hook will be missing some grad_input. Please use register_full_backward_hook to get the documented behavior.\n",
      "  self._maybe_warn_non_full_backward_hook(args, result, grad_fn)\n"
     ]
    }
   ],
   "source": [
    "generateGradCam(\"result\", \"category\", 5, category_classifier, category_test_dataset)\n",
    "generateGradCam(\"result\", \"suit\", 5, suit_classifier, suit_test_dataset)"
   ]
  },
  {
   "cell_type": "markdown",
   "id": "38ff575c",
   "metadata": {},
   "source": [
    "# Tree Representation"
   ]
  },
  {
   "cell_type": "code",
   "execution_count": 9,
   "id": "7d01693e",
   "metadata": {},
   "outputs": [],
   "source": [
    "def prediction(image, model):\n",
    "    output = model(image.to(\"cuda\"))\n",
    "    pred_class = torch.argmax(output, dim=1)\n",
    "    return pred_class\n",
    "\n",
    "def get_results(test, model: nn.Module):\n",
    "    true_labels = []\n",
    "    pred_labels = []\n",
    "    expert_outputs = {}\n",
    "    model.eval()\n",
    "    test_loader = DataLoader(test, batch_size=BATCH_SIZE, shuffle=False)\n",
    "    with torch.no_grad():\n",
    "        for images, labels in test_loader:\n",
    "            predictions = prediction(images, model)\n",
    "\n",
    "            for pred, label in zip(predictions, labels):\n",
    "                label_idx = torch.argmax(label).item()\n",
    "                true_labels.append(label_idx)\n",
    "                pred_labels.append(pred.item())\n",
    "                \n",
    "            new_outputs = model.get_expert_output_dict()\n",
    "            if not expert_outputs:\n",
    "                expert_outputs = new_outputs\n",
    "            else:\n",
    "                for k in new_outputs:\n",
    "                    expert_outputs[k] += new_outputs[k]\n",
    "    \n",
    "    expert_outputs[\"true_label\"] = true_labels\n",
    "    expert_outputs[\"pred_label\"] = pred_labels\n",
    "    \n",
    "    return true_labels, pred_labels, expert_outputs\n",
    "\n",
    "def get_results_expert(test_dataset, valid_dataset, model: nn.Module):\n",
    "    _, _, test_expert_dataset = get_results(test=test_dataset, model=model)\n",
    "    df_test = pd.DataFrame(test_expert_dataset)\n",
    "    _,_ , valid_expert_dataset = get_results(test=valid_dataset, model=model)\n",
    "    df_valid = pd.DataFrame(valid_expert_dataset)\n",
    "    df_combined = pd.concat([df_test, df_valid], ignore_index=True)\n",
    "    return df_combined\n",
    "\n",
    "def plot_and_save_confusion_matrix(true_labels, pred_labels, save_path, num_parameters):\n",
    "    cm = confusion_matrix(true_labels, pred_labels)\n",
    "    plt.figure(figsize=(8, 6))\n",
    "    sns.heatmap(cm, annot=True, fmt=\"d\", cmap=\"Blues\")\n",
    "    plt.xlabel(\"Etiquetas Predichas\")\n",
    "    plt.ylabel(\"Etiquetas Verdaderas\")\n",
    "    plt.title(f\"Matriz de Confusión. Num.Param{num_parameters}\")\n",
    "    plt.savefig(save_path)\n",
    "    plt.close()"
   ]
  },
  {
   "cell_type": "code",
   "execution_count": 10,
   "id": "0c9084be",
   "metadata": {},
   "outputs": [],
   "source": [
    "df_suit = get_results_expert(test_dataset=suit_test_dataset, valid_dataset=suit_valid_dataset, model=suit_classifier)\n",
    "df_category = get_results_expert(test_dataset=category_test_dataset, valid_dataset=category_valid_dataset, model=category_classifier)\n",
    "\n",
    "os.makedirs(\"result/suit/confussion_matrix/\", exist_ok=True)\n",
    "plot_and_save_confusion_matrix(\n",
    "    true_labels=df_suit[\"true_label\"],\n",
    "    pred_labels=df_suit[\"pred_label\"],\n",
    "    save_path=\"result/suit/confussion_matrix/suit_classifier_confusion_matrix.png\",\n",
    "    num_parameters=suit_classifier.n_parameters()\n",
    ")\n",
    "\n",
    "os.makedirs(\"result/category/confussion_matrix/\", exist_ok=True)\n",
    "plot_and_save_confusion_matrix(\n",
    "    true_labels=df_category[\"true_label\"],\n",
    "    pred_labels=df_category[\"pred_label\"],\n",
    "    save_path=\"result/category/confussion_matrix/category_classifier_confusion_matrix.png\",\n",
    "    num_parameters=category_classifier.n_parameters()\n",
    ")"
   ]
  },
  {
   "cell_type": "code",
   "execution_count": 11,
   "id": "8b4f3dce",
   "metadata": {},
   "outputs": [],
   "source": [
    "df_suit.to_csv(\"result/suit/suit_expert.csv\", index=False)\n",
    "df_category.to_csv(\"result/category/category_expert.csv\", index=False)"
   ]
  },
  {
   "cell_type": "markdown",
   "id": "307798c5",
   "metadata": {},
   "source": [
    "# Trees"
   ]
  },
  {
   "cell_type": "code",
   "execution_count": 12,
   "id": "8f2909d9",
   "metadata": {},
   "outputs": [],
   "source": [
    "\n",
    "def tree_objective(trial, X, Y):\n",
    "    X_train, X_test, y_train, y_test = train_test_split(X, Y, test_size=0.2, random_state=42)\n",
    "    max_depth = trial.suggest_int(\"max_depth\", 1, 20)\n",
    "    min_samples_split = trial.suggest_int(\"min_samples_split\", 2, 20)\n",
    "    min_samples_leaf = trial.suggest_int(\"min_samples_leaf\", 1, 20)\n",
    "    criterion = trial.suggest_categorical(\"criterion\", [\"gini\", \"entropy\"])\n",
    "    clf = DecisionTreeClassifier(\n",
    "        max_depth=max_depth,\n",
    "        min_samples_split=min_samples_split,\n",
    "        min_samples_leaf=min_samples_leaf,\n",
    "        criterion=criterion,\n",
    "        random_state=42\n",
    "    )\n",
    "    clf.fit(X_train, y_train)\n",
    "    y_pred = clf.predict(X_test)\n",
    "    score = precision_score(y_test, y_pred, average='macro', zero_division=0)\n",
    "    return score\n",
    "\n",
    "def find_best_tree_params_optuna(X, Y, n_trials=50):\n",
    "    study = optuna.create_study(direction=\"maximize\")\n",
    "    study.optimize(lambda trial: tree_objective(trial, X, Y), n_trials=n_trials, n_jobs=NUN_WORKERS)\n",
    "    print(\"Best Macro Precision Score:\", study.best_trial.value)\n",
    "    return study.best_trial\n",
    "   \n",
    "def get_decision_tree_svg(csv_file:str, result_path: str, target_label: bool):\n",
    "    df = pd.read_csv(csv_file)\n",
    "    y = df[target_label]\n",
    "    X = df.drop(columns=[\"true_label\", \"pred_label\"]).loc[:, (df != 0).any(axis=0)]\n",
    "    \n",
    "    best_best_trial = find_best_tree_params_optuna(X, y, n_trials=N_TRIALS)\n",
    "\n",
    "    os.makedirs(result_path, exist_ok=True)\n",
    "\n",
    "    with open(f\"{result_path}/best_params.json\", \"w\") as f:\n",
    "        temp_dict = {\"Best_params\": best_best_trial.params, \"Precision_Score\": best_best_trial.value}\n",
    "        json.dump(temp_dict, f, indent=4)\n",
    "\n",
    "    clf = DecisionTreeClassifier(**best_best_trial.params, random_state=SEED)\n",
    "    clf.fit(X, y)\n",
    "\n",
    "    dot_file = f\"{result_path}/tree.dot\"\n",
    "    \n",
    "    with open(dot_file, \"w\") as f:\n",
    "        export_graphviz(clf,\n",
    "                        out_file=f,\n",
    "                        feature_names=X.columns,\n",
    "                        class_names=[str(cls) for cls in clf.classes_],\n",
    "                        filled=True,\n",
    "                        rounded=True,\n",
    "                        special_characters=True)\n",
    "\n",
    "    svg_file = f\"{result_path}/{target_label}.svg\"\n",
    "    subprocess.run([\"dot\", \"-Tsvg\", dot_file, \"-o\", svg_file], check=True)\n"
   ]
  },
  {
   "cell_type": "code",
   "execution_count": 14,
   "id": "e2a69f4a",
   "metadata": {},
   "outputs": [
    {
     "name": "stderr",
     "output_type": "stream",
     "text": [
      "[I 2025-05-09 15:48:49,860] A new study created in memory with name: no-name-72db9ebe-0efa-4a89-a15b-a5a8bc17b409\n",
      "[I 2025-05-09 15:48:49,887] Trial 1 finished with value: 0.9339488636363636 and parameters: {'max_depth': 11, 'min_samples_split': 9, 'min_samples_leaf': 6, 'criterion': 'entropy'}. Best is trial 1 with value: 0.9339488636363636.\n",
      "[I 2025-05-09 15:48:49,888] Trial 0 finished with value: 0.9165296052631579 and parameters: {'max_depth': 7, 'min_samples_split': 13, 'min_samples_leaf': 20, 'criterion': 'gini'}. Best is trial 1 with value: 0.9339488636363636.\n",
      "[I 2025-05-09 15:48:49,895] Trial 2 finished with value: 0.9035359801488834 and parameters: {'max_depth': 20, 'min_samples_split': 5, 'min_samples_leaf': 20, 'criterion': 'entropy'}. Best is trial 1 with value: 0.9339488636363636.\n",
      "[I 2025-05-09 15:48:49,913] Trial 3 finished with value: 0.9165296052631579 and parameters: {'max_depth': 10, 'min_samples_split': 15, 'min_samples_leaf': 16, 'criterion': 'gini'}. Best is trial 1 with value: 0.9339488636363636.\n",
      "[I 2025-05-09 15:48:49,918] Trial 6 finished with value: 0.9165296052631579 and parameters: {'max_depth': 4, 'min_samples_split': 2, 'min_samples_leaf': 11, 'criterion': 'gini'}. Best is trial 1 with value: 0.9339488636363636.\n",
      "[I 2025-05-09 15:48:49,923] Trial 4 finished with value: 0.9035359801488834 and parameters: {'max_depth': 9, 'min_samples_split': 14, 'min_samples_leaf': 12, 'criterion': 'entropy'}. Best is trial 1 with value: 0.9339488636363636.\n",
      "[I 2025-05-09 15:48:49,929] Trial 7 finished with value: 0.9537476280834914 and parameters: {'max_depth': 19, 'min_samples_split': 20, 'min_samples_leaf': 1, 'criterion': 'gini'}. Best is trial 7 with value: 0.9537476280834914.\n",
      "[I 2025-05-09 15:48:49,929] Trial 5 finished with value: 0.9165296052631579 and parameters: {'max_depth': 5, 'min_samples_split': 18, 'min_samples_leaf': 13, 'criterion': 'gini'}. Best is trial 7 with value: 0.9537476280834914.\n",
      "[I 2025-05-09 15:48:49,949] Trial 8 finished with value: 0.9113825363825363 and parameters: {'max_depth': 2, 'min_samples_split': 19, 'min_samples_leaf': 6, 'criterion': 'entropy'}. Best is trial 7 with value: 0.9537476280834914.\n",
      "[I 2025-05-09 15:48:49,955] Trial 10 finished with value: 0.9165296052631579 and parameters: {'max_depth': 19, 'min_samples_split': 13, 'min_samples_leaf': 13, 'criterion': 'gini'}. Best is trial 7 with value: 0.9537476280834914.\n",
      "[I 2025-05-09 15:48:49,956] Trial 11 finished with value: 0.18312985571587126 and parameters: {'max_depth': 1, 'min_samples_split': 5, 'min_samples_leaf': 16, 'criterion': 'entropy'}. Best is trial 7 with value: 0.9537476280834914.\n",
      "[I 2025-05-09 15:48:49,957] Trial 9 finished with value: 0.9035359801488834 and parameters: {'max_depth': 10, 'min_samples_split': 11, 'min_samples_leaf': 18, 'criterion': 'entropy'}. Best is trial 7 with value: 0.9537476280834914.\n",
      "[I 2025-05-09 15:48:50,006] Trial 13 finished with value: 0.9431818181818182 and parameters: {'max_depth': 15, 'min_samples_split': 9, 'min_samples_leaf': 1, 'criterion': 'entropy'}. Best is trial 7 with value: 0.9537476280834914.\n",
      "[I 2025-05-09 15:48:50,011] Trial 12 finished with value: 0.9431818181818182 and parameters: {'max_depth': 15, 'min_samples_split': 9, 'min_samples_leaf': 1, 'criterion': 'entropy'}. Best is trial 7 with value: 0.9537476280834914.\n",
      "[I 2025-05-09 15:48:50,046] Trial 14 finished with value: 0.9476814516129032 and parameters: {'max_depth': 15, 'min_samples_split': 9, 'min_samples_leaf': 1, 'criterion': 'gini'}. Best is trial 7 with value: 0.9537476280834914.\n",
      "[I 2025-05-09 15:48:50,049] Trial 15 finished with value: 0.9537476280834914 and parameters: {'max_depth': 16, 'min_samples_split': 20, 'min_samples_leaf': 1, 'criterion': 'gini'}. Best is trial 7 with value: 0.9537476280834914.\n",
      "[I 2025-05-09 15:48:50,066] Trial 16 finished with value: 0.9476814516129032 and parameters: {'max_depth': 15, 'min_samples_split': 7, 'min_samples_leaf': 1, 'criterion': 'gini'}. Best is trial 7 with value: 0.9537476280834914.\n",
      "[I 2025-05-09 15:48:50,085] Trial 17 finished with value: 0.9480363984674329 and parameters: {'max_depth': 16, 'min_samples_split': 20, 'min_samples_leaf': 5, 'criterion': 'gini'}. Best is trial 7 with value: 0.9537476280834914.\n",
      "[I 2025-05-09 15:48:50,102] Trial 18 finished with value: 0.9480363984674329 and parameters: {'max_depth': 18, 'min_samples_split': 20, 'min_samples_leaf': 5, 'criterion': 'gini'}. Best is trial 7 with value: 0.9537476280834914.\n",
      "[I 2025-05-09 15:48:50,135] Trial 19 finished with value: 0.9547619047619047 and parameters: {'max_depth': 18, 'min_samples_split': 16, 'min_samples_leaf': 4, 'criterion': 'gini'}. Best is trial 19 with value: 0.9547619047619047.\n",
      "[I 2025-05-09 15:48:50,147] Trial 20 finished with value: 0.9338864402385273 and parameters: {'max_depth': 13, 'min_samples_split': 17, 'min_samples_leaf': 8, 'criterion': 'gini'}. Best is trial 19 with value: 0.9547619047619047.\n",
      "[I 2025-05-09 15:48:50,187] Trial 21 finished with value: 0.9338864402385273 and parameters: {'max_depth': 13, 'min_samples_split': 17, 'min_samples_leaf': 8, 'criterion': 'gini'}. Best is trial 19 with value: 0.9547619047619047.\n",
      "[I 2025-05-09 15:48:50,196] Trial 22 finished with value: 0.9338864402385273 and parameters: {'max_depth': 13, 'min_samples_split': 17, 'min_samples_leaf': 8, 'criterion': 'gini'}. Best is trial 19 with value: 0.9547619047619047.\n",
      "[I 2025-05-09 15:48:50,203] Trial 23 finished with value: 0.9547619047619047 and parameters: {'max_depth': 18, 'min_samples_split': 17, 'min_samples_leaf': 3, 'criterion': 'gini'}. Best is trial 19 with value: 0.9547619047619047.\n",
      "[I 2025-05-09 15:48:50,223] Trial 24 finished with value: 0.9547619047619047 and parameters: {'max_depth': 18, 'min_samples_split': 16, 'min_samples_leaf': 3, 'criterion': 'gini'}. Best is trial 19 with value: 0.9547619047619047.\n",
      "[I 2025-05-09 15:48:50,298] Trial 25 finished with value: 0.9547619047619047 and parameters: {'max_depth': 18, 'min_samples_split': 16, 'min_samples_leaf': 3, 'criterion': 'gini'}. Best is trial 19 with value: 0.9547619047619047.\n",
      "[I 2025-05-09 15:48:50,301] Trial 26 finished with value: 0.9547619047619047 and parameters: {'max_depth': 18, 'min_samples_split': 16, 'min_samples_leaf': 3, 'criterion': 'gini'}. Best is trial 19 with value: 0.9547619047619047.\n",
      "[I 2025-05-09 15:48:50,323] Trial 28 finished with value: 0.9547619047619047 and parameters: {'max_depth': 17, 'min_samples_split': 15, 'min_samples_leaf': 3, 'criterion': 'gini'}. Best is trial 19 with value: 0.9547619047619047.\n",
      "[I 2025-05-09 15:48:50,329] Trial 27 finished with value: 0.9547619047619047 and parameters: {'max_depth': 18, 'min_samples_split': 16, 'min_samples_leaf': 3, 'criterion': 'gini'}. Best is trial 19 with value: 0.9547619047619047.\n",
      "[I 2025-05-09 15:48:50,344] Trial 29 finished with value: 0.9547619047619047 and parameters: {'max_depth': 17, 'min_samples_split': 15, 'min_samples_leaf': 3, 'criterion': 'gini'}. Best is trial 19 with value: 0.9547619047619047.\n",
      "[I 2025-05-09 15:48:50,358] Trial 30 finished with value: 0.9547619047619047 and parameters: {'max_depth': 17, 'min_samples_split': 15, 'min_samples_leaf': 3, 'criterion': 'gini'}. Best is trial 19 with value: 0.9547619047619047.\n",
      "[I 2025-05-09 15:48:50,418] Trial 32 finished with value: 0.9214285714285715 and parameters: {'max_depth': 20, 'min_samples_split': 11, 'min_samples_leaf': 9, 'criterion': 'gini'}. Best is trial 19 with value: 0.9547619047619047.\n",
      "[I 2025-05-09 15:48:50,421] Trial 31 finished with value: 0.9547619047619047 and parameters: {'max_depth': 20, 'min_samples_split': 13, 'min_samples_leaf': 3, 'criterion': 'gini'}. Best is trial 19 with value: 0.9547619047619047.\n",
      "[I 2025-05-09 15:48:50,454] Trial 33 finished with value: 0.9214285714285715 and parameters: {'max_depth': 20, 'min_samples_split': 11, 'min_samples_leaf': 9, 'criterion': 'gini'}. Best is trial 19 with value: 0.9547619047619047.\n",
      "[I 2025-05-09 15:48:50,478] Trial 34 finished with value: 0.9480363984674329 and parameters: {'max_depth': 20, 'min_samples_split': 12, 'min_samples_leaf': 5, 'criterion': 'gini'}. Best is trial 19 with value: 0.9547619047619047.\n",
      "[I 2025-05-09 15:48:50,482] Trial 35 finished with value: 0.9480363984674329 and parameters: {'max_depth': 20, 'min_samples_split': 13, 'min_samples_leaf': 5, 'criterion': 'gini'}. Best is trial 19 with value: 0.9547619047619047.\n",
      "[I 2025-05-09 15:48:50,482] Trial 36 finished with value: 0.9480363984674329 and parameters: {'max_depth': 20, 'min_samples_split': 12, 'min_samples_leaf': 5, 'criterion': 'gini'}. Best is trial 19 with value: 0.9547619047619047.\n",
      "[I 2025-05-09 15:48:50,515] Trial 38 finished with value: 0.9480363984674329 and parameters: {'max_depth': 12, 'min_samples_split': 18, 'min_samples_leaf': 5, 'criterion': 'gini'}. Best is trial 19 with value: 0.9547619047619047.\n",
      "[I 2025-05-09 15:48:50,547] Trial 37 finished with value: 0.9480363984674329 and parameters: {'max_depth': 19, 'min_samples_split': 18, 'min_samples_leaf': 5, 'criterion': 'gini'}. Best is trial 19 with value: 0.9547619047619047.\n",
      "[I 2025-05-09 15:48:50,589] Trial 39 finished with value: 0.9480363984674329 and parameters: {'max_depth': 19, 'min_samples_split': 12, 'min_samples_leaf': 5, 'criterion': 'gini'}. Best is trial 19 with value: 0.9547619047619047.\n",
      "[I 2025-05-09 15:48:50,596] Trial 40 finished with value: 0.9338864402385273 and parameters: {'max_depth': 14, 'min_samples_split': 18, 'min_samples_leaf': 7, 'criterion': 'gini'}. Best is trial 19 with value: 0.9547619047619047.\n",
      "[I 2025-05-09 15:48:50,612] Trial 43 finished with value: 0.9338864402385273 and parameters: {'max_depth': 7, 'min_samples_split': 18, 'min_samples_leaf': 6, 'criterion': 'gini'}. Best is trial 19 with value: 0.9547619047619047.\n",
      "[I 2025-05-09 15:48:50,629] Trial 42 finished with value: 0.9338864402385273 and parameters: {'max_depth': 7, 'min_samples_split': 18, 'min_samples_leaf': 7, 'criterion': 'gini'}. Best is trial 19 with value: 0.9547619047619047.\n",
      "[I 2025-05-09 15:48:50,637] Trial 41 finished with value: 0.9338864402385273 and parameters: {'max_depth': 7, 'min_samples_split': 18, 'min_samples_leaf': 7, 'criterion': 'gini'}. Best is trial 19 with value: 0.9547619047619047.\n",
      "[I 2025-05-09 15:48:50,674] Trial 44 finished with value: 0.9338864402385273 and parameters: {'max_depth': 8, 'min_samples_split': 16, 'min_samples_leaf': 7, 'criterion': 'gini'}. Best is trial 19 with value: 0.9547619047619047.\n",
      "[I 2025-05-09 15:48:50,716] Trial 46 finished with value: 0.9460227272727273 and parameters: {'max_depth': 8, 'min_samples_split': 16, 'min_samples_leaf': 2, 'criterion': 'gini'}. Best is trial 19 with value: 0.9547619047619047.\n",
      "[I 2025-05-09 15:48:50,718] Trial 47 finished with value: 0.9460227272727273 and parameters: {'max_depth': 18, 'min_samples_split': 16, 'min_samples_leaf': 2, 'criterion': 'gini'}. Best is trial 19 with value: 0.9547619047619047.\n",
      "[I 2025-05-09 15:48:50,720] Trial 45 finished with value: 0.9460227272727273 and parameters: {'max_depth': 8, 'min_samples_split': 16, 'min_samples_leaf': 2, 'criterion': 'gini'}. Best is trial 19 with value: 0.9547619047619047.\n",
      "[I 2025-05-09 15:48:50,756] Trial 48 finished with value: 0.9304759931513087 and parameters: {'max_depth': 18, 'min_samples_split': 16, 'min_samples_leaf': 2, 'criterion': 'entropy'}. Best is trial 19 with value: 0.9547619047619047.\n",
      "[I 2025-05-09 15:48:50,768] Trial 49 finished with value: 0.9399085968379447 and parameters: {'max_depth': 18, 'min_samples_split': 16, 'min_samples_leaf': 4, 'criterion': 'entropy'}. Best is trial 19 with value: 0.9547619047619047.\n",
      "[I 2025-05-09 15:48:50,782] Trial 50 finished with value: 0.9304759931513087 and parameters: {'max_depth': 18, 'min_samples_split': 14, 'min_samples_leaf': 2, 'criterion': 'entropy'}. Best is trial 19 with value: 0.9547619047619047.\n",
      "[I 2025-05-09 15:48:50,831] Trial 51 finished with value: 0.9399085968379447 and parameters: {'max_depth': 16, 'min_samples_split': 14, 'min_samples_leaf': 4, 'criterion': 'entropy'}. Best is trial 19 with value: 0.9547619047619047.\n",
      "[I 2025-05-09 15:48:50,837] Trial 52 finished with value: 0.9399085968379447 and parameters: {'max_depth': 16, 'min_samples_split': 14, 'min_samples_leaf': 4, 'criterion': 'entropy'}. Best is trial 19 with value: 0.9547619047619047.\n",
      "[I 2025-05-09 15:48:50,878] Trial 53 finished with value: 0.9399085968379447 and parameters: {'max_depth': 16, 'min_samples_split': 14, 'min_samples_leaf': 4, 'criterion': 'entropy'}. Best is trial 19 with value: 0.9547619047619047.\n",
      "[I 2025-05-09 15:48:50,883] Trial 54 finished with value: 0.9399085968379447 and parameters: {'max_depth': 16, 'min_samples_split': 14, 'min_samples_leaf': 4, 'criterion': 'entropy'}. Best is trial 19 with value: 0.9547619047619047.\n",
      "[I 2025-05-09 15:48:50,897] Trial 56 finished with value: 0.9547619047619047 and parameters: {'max_depth': 16, 'min_samples_split': 19, 'min_samples_leaf': 4, 'criterion': 'gini'}. Best is trial 19 with value: 0.9547619047619047.\n",
      "[I 2025-05-09 15:48:50,911] Trial 55 finished with value: 0.9547619047619047 and parameters: {'max_depth': 16, 'min_samples_split': 14, 'min_samples_leaf': 4, 'criterion': 'gini'}. Best is trial 19 with value: 0.9547619047619047.\n",
      "[I 2025-05-09 15:48:50,960] Trial 58 finished with value: 0.9547619047619047 and parameters: {'max_depth': 17, 'min_samples_split': 19, 'min_samples_leaf': 4, 'criterion': 'gini'}. Best is trial 19 with value: 0.9547619047619047.\n",
      "[I 2025-05-09 15:48:50,977] Trial 59 finished with value: 0.9165296052631579 and parameters: {'max_depth': 19, 'min_samples_split': 19, 'min_samples_leaf': 14, 'criterion': 'gini'}. Best is trial 19 with value: 0.9547619047619047.\n",
      "[I 2025-05-09 15:48:50,980] Trial 57 finished with value: 0.9547619047619047 and parameters: {'max_depth': 17, 'min_samples_split': 19, 'min_samples_leaf': 4, 'criterion': 'gini'}. Best is trial 19 with value: 0.9547619047619047.\n",
      "[I 2025-05-09 15:48:51,027] Trial 62 finished with value: 0.9165296052631579 and parameters: {'max_depth': 17, 'min_samples_split': 17, 'min_samples_leaf': 14, 'criterion': 'gini'}. Best is trial 19 with value: 0.9547619047619047.\n",
      "[I 2025-05-09 15:48:51,041] Trial 60 finished with value: 0.9165296052631579 and parameters: {'max_depth': 17, 'min_samples_split': 17, 'min_samples_leaf': 19, 'criterion': 'gini'}. Best is trial 19 with value: 0.9547619047619047.\n",
      "[I 2025-05-09 15:48:51,046] Trial 61 finished with value: 0.9165296052631579 and parameters: {'max_depth': 19, 'min_samples_split': 19, 'min_samples_leaf': 15, 'criterion': 'gini'}. Best is trial 19 with value: 0.9547619047619047.\n",
      "[I 2025-05-09 15:48:51,083] Trial 63 finished with value: 0.9165296052631579 and parameters: {'max_depth': 4, 'min_samples_split': 2, 'min_samples_leaf': 16, 'criterion': 'gini'}. Best is trial 19 with value: 0.9547619047619047.\n",
      "[I 2025-05-09 15:48:51,097] Trial 65 finished with value: 0.9165296052631579 and parameters: {'max_depth': 4, 'min_samples_split': 17, 'min_samples_leaf': 19, 'criterion': 'gini'}. Best is trial 19 with value: 0.9547619047619047.\n",
      "[I 2025-05-09 15:48:51,118] Trial 64 finished with value: 0.9547619047619047 and parameters: {'max_depth': 14, 'min_samples_split': 17, 'min_samples_leaf': 3, 'criterion': 'gini'}. Best is trial 19 with value: 0.9547619047619047.\n",
      "[I 2025-05-09 15:48:51,150] Trial 66 finished with value: 0.9397533206831119 and parameters: {'max_depth': 4, 'min_samples_split': 15, 'min_samples_leaf': 3, 'criterion': 'gini'}. Best is trial 19 with value: 0.9547619047619047.\n",
      "[I 2025-05-09 15:48:51,165] Trial 67 finished with value: 0.9547619047619047 and parameters: {'max_depth': 18, 'min_samples_split': 15, 'min_samples_leaf': 3, 'criterion': 'gini'}. Best is trial 19 with value: 0.9547619047619047.\n",
      "[I 2025-05-09 15:48:51,198] Trial 68 finished with value: 0.9547619047619047 and parameters: {'max_depth': 18, 'min_samples_split': 15, 'min_samples_leaf': 3, 'criterion': 'gini'}. Best is trial 19 with value: 0.9547619047619047.\n",
      "[I 2025-05-09 15:48:51,211] Trial 69 finished with value: 0.9547619047619047 and parameters: {'max_depth': 14, 'min_samples_split': 15, 'min_samples_leaf': 3, 'criterion': 'gini'}. Best is trial 19 with value: 0.9547619047619047.\n",
      "[I 2025-05-09 15:48:51,225] Trial 70 finished with value: 0.9547619047619047 and parameters: {'max_depth': 14, 'min_samples_split': 15, 'min_samples_leaf': 3, 'criterion': 'gini'}. Best is trial 19 with value: 0.9547619047619047.\n",
      "[I 2025-05-09 15:48:51,265] Trial 71 finished with value: 0.9547619047619047 and parameters: {'max_depth': 18, 'min_samples_split': 15, 'min_samples_leaf': 3, 'criterion': 'gini'}. Best is trial 19 with value: 0.9547619047619047.\n",
      "[I 2025-05-09 15:48:51,282] Trial 73 finished with value: 0.9537476280834914 and parameters: {'max_depth': 19, 'min_samples_split': 15, 'min_samples_leaf': 1, 'criterion': 'gini'}. Best is trial 19 with value: 0.9547619047619047.\n",
      "[I 2025-05-09 15:48:51,283] Trial 72 finished with value: 0.9537476280834914 and parameters: {'max_depth': 18, 'min_samples_split': 15, 'min_samples_leaf': 1, 'criterion': 'gini'}. Best is trial 19 with value: 0.9547619047619047.\n",
      "[I 2025-05-09 15:48:51,341] Trial 75 finished with value: 0.9476814516129032 and parameters: {'max_depth': 19, 'min_samples_split': 10, 'min_samples_leaf': 1, 'criterion': 'gini'}. Best is trial 19 with value: 0.9547619047619047.\n",
      "[I 2025-05-09 15:48:51,344] Trial 76 finished with value: 0.9537476280834914 and parameters: {'max_depth': 19, 'min_samples_split': 16, 'min_samples_leaf': 1, 'criterion': 'gini'}. Best is trial 19 with value: 0.9547619047619047.\n",
      "[I 2025-05-09 15:48:51,362] Trial 74 finished with value: 0.9537476280834914 and parameters: {'max_depth': 19, 'min_samples_split': 15, 'min_samples_leaf': 1, 'criterion': 'gini'}. Best is trial 19 with value: 0.9547619047619047.\n",
      "[I 2025-05-09 15:48:51,422] Trial 79 finished with value: 0.9338864402385273 and parameters: {'max_depth': 17, 'min_samples_split': 16, 'min_samples_leaf': 6, 'criterion': 'gini'}. Best is trial 19 with value: 0.9547619047619047.\n",
      "[I 2025-05-09 15:48:51,434] Trial 77 finished with value: 0.9476814516129032 and parameters: {'max_depth': 17, 'min_samples_split': 10, 'min_samples_leaf': 1, 'criterion': 'gini'}. Best is trial 19 with value: 0.9547619047619047.\n",
      "[I 2025-05-09 15:48:51,435] Trial 78 finished with value: 0.9401209677419354 and parameters: {'max_depth': 17, 'min_samples_split': 10, 'min_samples_leaf': 2, 'criterion': 'gini'}. Best is trial 19 with value: 0.9547619047619047.\n",
      "[I 2025-05-09 15:48:51,506] Trial 81 finished with value: 0.9338864402385273 and parameters: {'max_depth': 17, 'min_samples_split': 13, 'min_samples_leaf': 6, 'criterion': 'gini'}. Best is trial 19 with value: 0.9547619047619047.\n",
      "[I 2025-05-09 15:48:51,532] Trial 82 finished with value: 0.9338864402385273 and parameters: {'max_depth': 17, 'min_samples_split': 13, 'min_samples_leaf': 6, 'criterion': 'gini'}. Best is trial 19 with value: 0.9547619047619047.\n",
      "[I 2025-05-09 15:48:51,533] Trial 80 finished with value: 0.9338864402385273 and parameters: {'max_depth': 17, 'min_samples_split': 13, 'min_samples_leaf': 6, 'criterion': 'gini'}. Best is trial 19 with value: 0.9547619047619047.\n",
      "[I 2025-05-09 15:48:51,563] Trial 83 finished with value: 0.9342627401837929 and parameters: {'max_depth': 11, 'min_samples_split': 17, 'min_samples_leaf': 11, 'criterion': 'gini'}. Best is trial 19 with value: 0.9547619047619047.\n",
      "[I 2025-05-09 15:48:51,579] Trial 85 finished with value: 0.9401209677419354 and parameters: {'max_depth': 15, 'min_samples_split': 7, 'min_samples_leaf': 2, 'criterion': 'gini'}. Best is trial 19 with value: 0.9547619047619047.\n",
      "[I 2025-05-09 15:48:51,598] Trial 84 finished with value: 0.9342627401837929 and parameters: {'max_depth': 15, 'min_samples_split': 13, 'min_samples_leaf': 10, 'criterion': 'gini'}. Best is trial 19 with value: 0.9547619047619047.\n",
      "[I 2025-05-09 15:48:51,628] Trial 86 finished with value: 0.9460227272727273 and parameters: {'max_depth': 15, 'min_samples_split': 17, 'min_samples_leaf': 2, 'criterion': 'gini'}. Best is trial 19 with value: 0.9547619047619047.\n",
      "[I 2025-05-09 15:48:51,655] Trial 87 finished with value: 0.9460227272727273 and parameters: {'max_depth': 15, 'min_samples_split': 17, 'min_samples_leaf': 2, 'criterion': 'gini'}. Best is trial 19 with value: 0.9547619047619047.\n",
      "[I 2025-05-09 15:48:51,669] Trial 88 finished with value: 0.9460227272727273 and parameters: {'max_depth': 15, 'min_samples_split': 17, 'min_samples_leaf': 2, 'criterion': 'gini'}. Best is trial 19 with value: 0.9547619047619047.\n",
      "[I 2025-05-09 15:48:51,699] Trial 89 finished with value: 0.9460227272727273 and parameters: {'max_depth': 20, 'min_samples_split': 16, 'min_samples_leaf': 2, 'criterion': 'gini'}. Best is trial 19 with value: 0.9547619047619047.\n",
      "[I 2025-05-09 15:48:51,711] Trial 90 finished with value: 0.9460227272727273 and parameters: {'max_depth': 20, 'min_samples_split': 16, 'min_samples_leaf': 2, 'criterion': 'gini'}. Best is trial 19 with value: 0.9547619047619047.\n",
      "[I 2025-05-09 15:48:51,736] Trial 91 finished with value: 0.9460227272727273 and parameters: {'max_depth': 20, 'min_samples_split': 16, 'min_samples_leaf': 2, 'criterion': 'gini'}. Best is trial 19 with value: 0.9547619047619047.\n",
      "[I 2025-05-09 15:48:51,774] Trial 92 finished with value: 0.9547619047619047 and parameters: {'max_depth': 18, 'min_samples_split': 16, 'min_samples_leaf': 3, 'criterion': 'gini'}. Best is trial 19 with value: 0.9547619047619047.\n",
      "[I 2025-05-09 15:48:51,788] Trial 93 finished with value: 0.9480363984674329 and parameters: {'max_depth': 20, 'min_samples_split': 16, 'min_samples_leaf': 5, 'criterion': 'gini'}. Best is trial 19 with value: 0.9547619047619047.\n",
      "[I 2025-05-09 15:48:51,819] Trial 95 finished with value: 0.9480363984674329 and parameters: {'max_depth': 18, 'min_samples_split': 16, 'min_samples_leaf': 5, 'criterion': 'gini'}. Best is trial 19 with value: 0.9547619047619047.\n",
      "[I 2025-05-09 15:48:51,833] Trial 94 finished with value: 0.9480363984674329 and parameters: {'max_depth': 20, 'min_samples_split': 16, 'min_samples_leaf': 5, 'criterion': 'gini'}. Best is trial 19 with value: 0.9547619047619047.\n",
      "[I 2025-05-09 15:48:51,847] Trial 96 finished with value: 0.9547619047619047 and parameters: {'max_depth': 18, 'min_samples_split': 14, 'min_samples_leaf': 3, 'criterion': 'gini'}. Best is trial 19 with value: 0.9547619047619047.\n",
      "[I 2025-05-09 15:48:51,855] Trial 97 finished with value: 0.9547619047619047 and parameters: {'max_depth': 18, 'min_samples_split': 14, 'min_samples_leaf': 3, 'criterion': 'gini'}. Best is trial 19 with value: 0.9547619047619047.\n",
      "[I 2025-05-09 15:48:51,866] Trial 99 finished with value: 0.9547619047619047 and parameters: {'max_depth': 19, 'min_samples_split': 14, 'min_samples_leaf': 3, 'criterion': 'gini'}. Best is trial 19 with value: 0.9547619047619047.\n",
      "[I 2025-05-09 15:48:51,871] Trial 98 finished with value: 0.9547619047619047 and parameters: {'max_depth': 19, 'min_samples_split': 14, 'min_samples_leaf': 3, 'criterion': 'gini'}. Best is trial 19 with value: 0.9547619047619047.\n"
     ]
    },
    {
     "name": "stdout",
     "output_type": "stream",
     "text": [
      "Best Macro Precision Score: 0.9547619047619047\n"
     ]
    },
    {
     "ename": "FileNotFoundError",
     "evalue": "[Errno 2] No such file or directory: 'dot'",
     "output_type": "error",
     "traceback": [
      "\u001b[31m---------------------------------------------------------------------------\u001b[39m",
      "\u001b[31mFileNotFoundError\u001b[39m                         Traceback (most recent call last)",
      "\u001b[36mCell\u001b[39m\u001b[36m \u001b[39m\u001b[32mIn[14]\u001b[39m\u001b[32m, line 1\u001b[39m\n\u001b[32m----> \u001b[39m\u001b[32m1\u001b[39m \u001b[43mget_decision_tree_svg\u001b[49m\u001b[43m(\u001b[49m\u001b[43mcsv_file\u001b[49m\u001b[43m=\u001b[49m\u001b[33;43m\"\u001b[39;49m\u001b[33;43mresult/suit/suit_expert.csv\u001b[39;49m\u001b[33;43m\"\u001b[39;49m\u001b[43m,\u001b[49m\u001b[43m \u001b[49m\u001b[43mresult_path\u001b[49m\u001b[43m=\u001b[49m\u001b[33;43m\"\u001b[39;49m\u001b[33;43mresult/suit/trees/\u001b[39;49m\u001b[33;43m\"\u001b[39;49m\u001b[43m,\u001b[49m\u001b[43m \u001b[49m\u001b[43mtarget_label\u001b[49m\u001b[43m=\u001b[49m\u001b[33;43m\"\u001b[39;49m\u001b[33;43mpred_label\u001b[39;49m\u001b[33;43m\"\u001b[39;49m\u001b[43m)\u001b[49m\n\u001b[32m      2\u001b[39m get_decision_tree_svg(csv_file=\u001b[33m\"\u001b[39m\u001b[33mresult/suit/suit_expert.csv\u001b[39m\u001b[33m\"\u001b[39m, result_path=\u001b[33m\"\u001b[39m\u001b[33mresult/suit/trees/\u001b[39m\u001b[33m\"\u001b[39m, target_label=\u001b[33m\"\u001b[39m\u001b[33mtrue_label\u001b[39m\u001b[33m\"\u001b[39m)\n\u001b[32m      3\u001b[39m get_decision_tree_svg(csv_file=\u001b[33m\"\u001b[39m\u001b[33mresult/category/category_expert.csv\u001b[39m\u001b[33m\"\u001b[39m, result_path=\u001b[33m\"\u001b[39m\u001b[33mresult/category/trees/\u001b[39m\u001b[33m\"\u001b[39m, target_label=\u001b[33m\"\u001b[39m\u001b[33mpred_label\u001b[39m\u001b[33m\"\u001b[39m)\n",
      "\u001b[36mCell\u001b[39m\u001b[36m \u001b[39m\u001b[32mIn[12]\u001b[39m\u001b[32m, line 53\u001b[39m, in \u001b[36mget_decision_tree_svg\u001b[39m\u001b[34m(csv_file, result_path, target_label)\u001b[39m\n\u001b[32m     44\u001b[39m     export_graphviz(clf,\n\u001b[32m     45\u001b[39m                     out_file=f,\n\u001b[32m     46\u001b[39m                     feature_names=X.columns,\n\u001b[32m   (...)\u001b[39m\u001b[32m     49\u001b[39m                     rounded=\u001b[38;5;28;01mTrue\u001b[39;00m,\n\u001b[32m     50\u001b[39m                     special_characters=\u001b[38;5;28;01mTrue\u001b[39;00m)\n\u001b[32m     52\u001b[39m svg_file = \u001b[33mf\u001b[39m\u001b[33m\"\u001b[39m\u001b[38;5;132;01m{\u001b[39;00mresult_path\u001b[38;5;132;01m}\u001b[39;00m\u001b[33m/\u001b[39m\u001b[38;5;132;01m{\u001b[39;00mtarget_label\u001b[38;5;132;01m}\u001b[39;00m\u001b[33m.svg\u001b[39m\u001b[33m\"\u001b[39m\n\u001b[32m---> \u001b[39m\u001b[32m53\u001b[39m \u001b[43msubprocess\u001b[49m\u001b[43m.\u001b[49m\u001b[43mrun\u001b[49m\u001b[43m(\u001b[49m\u001b[43m[\u001b[49m\u001b[33;43m\"\u001b[39;49m\u001b[33;43mdot\u001b[39;49m\u001b[33;43m\"\u001b[39;49m\u001b[43m,\u001b[49m\u001b[43m \u001b[49m\u001b[33;43m\"\u001b[39;49m\u001b[33;43m-Tsvg\u001b[39;49m\u001b[33;43m\"\u001b[39;49m\u001b[43m,\u001b[49m\u001b[43m \u001b[49m\u001b[43mdot_file\u001b[49m\u001b[43m,\u001b[49m\u001b[43m \u001b[49m\u001b[33;43m\"\u001b[39;49m\u001b[33;43m-o\u001b[39;49m\u001b[33;43m\"\u001b[39;49m\u001b[43m,\u001b[49m\u001b[43m \u001b[49m\u001b[43msvg_file\u001b[49m\u001b[43m]\u001b[49m\u001b[43m,\u001b[49m\u001b[43m \u001b[49m\u001b[43mcheck\u001b[49m\u001b[43m=\u001b[49m\u001b[38;5;28;43;01mTrue\u001b[39;49;00m\u001b[43m)\u001b[49m\n",
      "\u001b[36mFile \u001b[39m\u001b[32m/usr/lib/python3.12/subprocess.py:548\u001b[39m, in \u001b[36mrun\u001b[39m\u001b[34m(input, capture_output, timeout, check, *popenargs, **kwargs)\u001b[39m\n\u001b[32m    545\u001b[39m     kwargs[\u001b[33m'\u001b[39m\u001b[33mstdout\u001b[39m\u001b[33m'\u001b[39m] = PIPE\n\u001b[32m    546\u001b[39m     kwargs[\u001b[33m'\u001b[39m\u001b[33mstderr\u001b[39m\u001b[33m'\u001b[39m] = PIPE\n\u001b[32m--> \u001b[39m\u001b[32m548\u001b[39m \u001b[38;5;28;01mwith\u001b[39;00m \u001b[43mPopen\u001b[49m\u001b[43m(\u001b[49m\u001b[43m*\u001b[49m\u001b[43mpopenargs\u001b[49m\u001b[43m,\u001b[49m\u001b[43m \u001b[49m\u001b[43m*\u001b[49m\u001b[43m*\u001b[49m\u001b[43mkwargs\u001b[49m\u001b[43m)\u001b[49m \u001b[38;5;28;01mas\u001b[39;00m process:\n\u001b[32m    549\u001b[39m     \u001b[38;5;28;01mtry\u001b[39;00m:\n\u001b[32m    550\u001b[39m         stdout, stderr = process.communicate(\u001b[38;5;28minput\u001b[39m, timeout=timeout)\n",
      "\u001b[36mFile \u001b[39m\u001b[32m/usr/lib/python3.12/subprocess.py:1026\u001b[39m, in \u001b[36mPopen.__init__\u001b[39m\u001b[34m(self, args, bufsize, executable, stdin, stdout, stderr, preexec_fn, close_fds, shell, cwd, env, universal_newlines, startupinfo, creationflags, restore_signals, start_new_session, pass_fds, user, group, extra_groups, encoding, errors, text, umask, pipesize, process_group)\u001b[39m\n\u001b[32m   1022\u001b[39m         \u001b[38;5;28;01mif\u001b[39;00m \u001b[38;5;28mself\u001b[39m.text_mode:\n\u001b[32m   1023\u001b[39m             \u001b[38;5;28mself\u001b[39m.stderr = io.TextIOWrapper(\u001b[38;5;28mself\u001b[39m.stderr,\n\u001b[32m   1024\u001b[39m                     encoding=encoding, errors=errors)\n\u001b[32m-> \u001b[39m\u001b[32m1026\u001b[39m     \u001b[38;5;28;43mself\u001b[39;49m\u001b[43m.\u001b[49m\u001b[43m_execute_child\u001b[49m\u001b[43m(\u001b[49m\u001b[43margs\u001b[49m\u001b[43m,\u001b[49m\u001b[43m \u001b[49m\u001b[43mexecutable\u001b[49m\u001b[43m,\u001b[49m\u001b[43m \u001b[49m\u001b[43mpreexec_fn\u001b[49m\u001b[43m,\u001b[49m\u001b[43m \u001b[49m\u001b[43mclose_fds\u001b[49m\u001b[43m,\u001b[49m\n\u001b[32m   1027\u001b[39m \u001b[43m                        \u001b[49m\u001b[43mpass_fds\u001b[49m\u001b[43m,\u001b[49m\u001b[43m \u001b[49m\u001b[43mcwd\u001b[49m\u001b[43m,\u001b[49m\u001b[43m \u001b[49m\u001b[43menv\u001b[49m\u001b[43m,\u001b[49m\n\u001b[32m   1028\u001b[39m \u001b[43m                        \u001b[49m\u001b[43mstartupinfo\u001b[49m\u001b[43m,\u001b[49m\u001b[43m \u001b[49m\u001b[43mcreationflags\u001b[49m\u001b[43m,\u001b[49m\u001b[43m \u001b[49m\u001b[43mshell\u001b[49m\u001b[43m,\u001b[49m\n\u001b[32m   1029\u001b[39m \u001b[43m                        \u001b[49m\u001b[43mp2cread\u001b[49m\u001b[43m,\u001b[49m\u001b[43m \u001b[49m\u001b[43mp2cwrite\u001b[49m\u001b[43m,\u001b[49m\n\u001b[32m   1030\u001b[39m \u001b[43m                        \u001b[49m\u001b[43mc2pread\u001b[49m\u001b[43m,\u001b[49m\u001b[43m \u001b[49m\u001b[43mc2pwrite\u001b[49m\u001b[43m,\u001b[49m\n\u001b[32m   1031\u001b[39m \u001b[43m                        \u001b[49m\u001b[43merrread\u001b[49m\u001b[43m,\u001b[49m\u001b[43m \u001b[49m\u001b[43merrwrite\u001b[49m\u001b[43m,\u001b[49m\n\u001b[32m   1032\u001b[39m \u001b[43m                        \u001b[49m\u001b[43mrestore_signals\u001b[49m\u001b[43m,\u001b[49m\n\u001b[32m   1033\u001b[39m \u001b[43m                        \u001b[49m\u001b[43mgid\u001b[49m\u001b[43m,\u001b[49m\u001b[43m \u001b[49m\u001b[43mgids\u001b[49m\u001b[43m,\u001b[49m\u001b[43m \u001b[49m\u001b[43muid\u001b[49m\u001b[43m,\u001b[49m\u001b[43m \u001b[49m\u001b[43mumask\u001b[49m\u001b[43m,\u001b[49m\n\u001b[32m   1034\u001b[39m \u001b[43m                        \u001b[49m\u001b[43mstart_new_session\u001b[49m\u001b[43m,\u001b[49m\u001b[43m \u001b[49m\u001b[43mprocess_group\u001b[49m\u001b[43m)\u001b[49m\n\u001b[32m   1035\u001b[39m \u001b[38;5;28;01mexcept\u001b[39;00m:\n\u001b[32m   1036\u001b[39m     \u001b[38;5;66;03m# Cleanup if the child failed starting.\u001b[39;00m\n\u001b[32m   1037\u001b[39m     \u001b[38;5;28;01mfor\u001b[39;00m f \u001b[38;5;129;01min\u001b[39;00m \u001b[38;5;28mfilter\u001b[39m(\u001b[38;5;28;01mNone\u001b[39;00m, (\u001b[38;5;28mself\u001b[39m.stdin, \u001b[38;5;28mself\u001b[39m.stdout, \u001b[38;5;28mself\u001b[39m.stderr)):\n",
      "\u001b[36mFile \u001b[39m\u001b[32m/usr/lib/python3.12/subprocess.py:1955\u001b[39m, in \u001b[36mPopen._execute_child\u001b[39m\u001b[34m(self, args, executable, preexec_fn, close_fds, pass_fds, cwd, env, startupinfo, creationflags, shell, p2cread, p2cwrite, c2pread, c2pwrite, errread, errwrite, restore_signals, gid, gids, uid, umask, start_new_session, process_group)\u001b[39m\n\u001b[32m   1953\u001b[39m     err_msg = os.strerror(errno_num)\n\u001b[32m   1954\u001b[39m \u001b[38;5;28;01mif\u001b[39;00m err_filename \u001b[38;5;129;01mis\u001b[39;00m \u001b[38;5;129;01mnot\u001b[39;00m \u001b[38;5;28;01mNone\u001b[39;00m:\n\u001b[32m-> \u001b[39m\u001b[32m1955\u001b[39m     \u001b[38;5;28;01mraise\u001b[39;00m child_exception_type(errno_num, err_msg, err_filename)\n\u001b[32m   1956\u001b[39m \u001b[38;5;28;01melse\u001b[39;00m:\n\u001b[32m   1957\u001b[39m     \u001b[38;5;28;01mraise\u001b[39;00m child_exception_type(errno_num, err_msg)\n",
      "\u001b[31mFileNotFoundError\u001b[39m: [Errno 2] No such file or directory: 'dot'"
     ]
    }
   ],
   "source": [
    "get_decision_tree_svg(csv_file=\"result/suit/suit_expert.csv\", result_path=\"result/suit/trees/\", target_label=\"pred_label\")\n",
    "get_decision_tree_svg(csv_file=\"result/suit/suit_expert.csv\", result_path=\"result/suit/trees/\", target_label=\"true_label\")\n",
    "get_decision_tree_svg(csv_file=\"result/category/category_expert.csv\", result_path=\"result/category/trees/\", target_label=\"pred_label\")\n",
    "get_decision_tree_svg(csv_file=\"result/category/category_expert.csv\", result_path=\"result/category/trees/\", target_label=\"true_label\")"
   ]
  },
  {
   "cell_type": "markdown",
   "id": "38dafd35",
   "metadata": {},
   "source": [
    "# Expert prunning"
   ]
  },
  {
   "cell_type": "code",
   "execution_count": 15,
   "id": "490dc7ff",
   "metadata": {},
   "outputs": [],
   "source": [
    "# Suit\n",
    "experts_to_prune = []\n",
    "for i in range(len(suit_classifier.experts)):\n",
    "    prunable = True\n",
    "    for j in range(suit_classifier.expert_output_len):\n",
    "        prunable = prunable and (df_suit[f'expert_{i}_{j}'] == 0).all()\n",
    "    if prunable:\n",
    "        experts_to_prune.append(i)\n",
    "\n",
    "with open(os.path.join(\"result/suit_pruned_experts.json\"), 'w') as f:\n",
    "                json.dump(experts_to_prune, f)"
   ]
  },
  {
   "cell_type": "code",
   "execution_count": 16,
   "id": "40ced7e8",
   "metadata": {},
   "outputs": [],
   "source": [
    "# Category\n",
    "experts_to_prune = []\n",
    "for i in range(len(category_classifier.experts)):\n",
    "    prunable = True\n",
    "    for j in range(category_classifier.expert_output_len):\n",
    "        prunable = prunable and (df_category[f'expert_{i}_{j}'] == 0).all()\n",
    "    if prunable:\n",
    "        experts_to_prune.append(i)\n",
    "\n",
    "with open(os.path.join(\"result/category_pruned_experts.json\"), 'w') as f:\n",
    "                json.dump(experts_to_prune, f)"
   ]
  }
 ],
 "metadata": {
  "kernelspec": {
   "display_name": "pytorch",
   "language": "python",
   "name": "python3"
  },
  "language_info": {
   "codemirror_mode": {
    "name": "ipython",
    "version": 3
   },
   "file_extension": ".py",
   "mimetype": "text/x-python",
   "name": "python",
   "nbconvert_exporter": "python",
   "pygments_lexer": "ipython3",
   "version": "3.12.3"
  }
 },
 "nbformat": 4,
 "nbformat_minor": 5
}
