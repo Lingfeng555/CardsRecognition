{
 "cells": [
  {
   "cell_type": "markdown",
   "id": "7302903a",
   "metadata": {},
   "source": [
    "# Imports"
   ]
  },
  {
   "cell_type": "code",
   "execution_count": 1,
   "id": "195cf134",
   "metadata": {},
   "outputs": [
    {
     "name": "stdout",
     "output_type": "stream",
     "text": [
      "Currently using cuda\n"
     ]
    }
   ],
   "source": [
    "import os\n",
    "import json\n",
    "import random\n",
    "import subprocess\n",
    "from collections import defaultdict\n",
    "\n",
    "import cv2\n",
    "import numpy as np\n",
    "import pandas as pd\n",
    "import matplotlib.pyplot as plt\n",
    "from sklearn.tree import DecisionTreeClassifier, export_graphviz\n",
    "from sklearn.metrics import precision_score\n",
    "from sklearn.model_selection import train_test_split\n",
    "import optuna\n",
    "import torch\n",
    "import torch.nn as nn\n",
    "from torch.utils.data import Dataset, DataLoader\n",
    "\n",
    "from utils.Loader import CardsDataset\n",
    "from arquitecture.CardsClassifier import CardClassifier\n",
    "from utils.AttentionGradCam import AttentionGradCAM\n",
    "\n",
    "DEVICE = torch.device(\"cuda\" if torch.cuda.is_available() else \"cpu\")\n",
    "print(\"Currently using\", DEVICE)"
   ]
  },
  {
   "cell_type": "markdown",
   "id": "9ebce926",
   "metadata": {},
   "source": [
    "# Hyperparameters"
   ]
  },
  {
   "cell_type": "code",
   "execution_count": 2,
   "id": "c0ba70dd",
   "metadata": {},
   "outputs": [],
   "source": [
    "EPOCH = 300\n",
    "BATCH_SIZE = 2400\n",
    "NUN_WORKERS = 6\n",
    "LR = 0.0004\n",
    "N_TRIALS = 100\n",
    "SEED = 55"
   ]
  },
  {
   "cell_type": "markdown",
   "id": "ff48df7d",
   "metadata": {},
   "source": [
    "# Load the pretrained models"
   ]
  },
  {
   "cell_type": "code",
   "execution_count": 3,
   "id": "8bcda49b",
   "metadata": {},
   "outputs": [
    {
     "name": "stdout",
     "output_type": "stream",
     "text": [
      "2373308\n",
      "5\n"
     ]
    }
   ],
   "source": [
    "csv_file = \"cards.csv\"\n",
    "target = \"suit\"\n",
    "\n",
    "suit_train_dataset = CardsDataset(scale=0.6, split=\"train\", csv_file=csv_file, target=target)\n",
    "suit_test_dataset = CardsDataset(scale=0.6, split=\"test\", csv_file=csv_file, target=target)\n",
    "suit_valid_dataset = CardsDataset(scale=0.6, split=\"valid\", csv_file=csv_file, target=target)\n",
    "\n",
    "suit_train_loader = DataLoader(suit_train_dataset, batch_size=BATCH_SIZE, shuffle=True, num_workers=NUN_WORKERS)\n",
    "suit_valid_loader = DataLoader(suit_valid_dataset, batch_size=BATCH_SIZE, shuffle=True, num_workers=NUN_WORKERS)\n",
    "suit_test_loader  = DataLoader(suit_test_dataset,  batch_size=BATCH_SIZE, shuffle=True, num_workers=NUN_WORKERS)\n",
    "\n",
    "_, label = suit_test_dataset.__getitem__(1)\n",
    "\n",
    "suit_classifier = CardClassifier(image_size=torch.Size((134, 134)), \n",
    "                            convolution_structure=[1,8,8,16,16,24,24,32,32],\n",
    "                            expert_output_len=1,\n",
    "                            expert_depth=4,\n",
    "                            output_len=len(label),\n",
    "                            pool_depth=2\n",
    "                            ).to(DEVICE)\n",
    "\n",
    "print(suit_classifier.n_parameters())\n",
    "print(len(label))"
   ]
  },
  {
   "cell_type": "code",
   "execution_count": 4,
   "id": "94f8b7ab",
   "metadata": {},
   "outputs": [
    {
     "name": "stdout",
     "output_type": "stream",
     "text": [
      "14\n"
     ]
    }
   ],
   "source": [
    "csv_file = \"cards.csv\"\n",
    "target = \"category\"\n",
    "\n",
    "category_train_dataset = CardsDataset(scale=0.6, split=\"train\", csv_file=csv_file, target=target)\n",
    "category_test_dataset = CardsDataset(scale=0.6, split=\"test\", csv_file=csv_file, target=target)\n",
    "category_valid_dataset = CardsDataset(scale=0.6, split=\"valid\", csv_file=csv_file, target=target)\n",
    "\n",
    "category_train_loader = DataLoader(category_train_dataset, batch_size=BATCH_SIZE, shuffle=True, num_workers=NUN_WORKERS)\n",
    "category_valid_loader = DataLoader(category_valid_dataset, batch_size=BATCH_SIZE, shuffle=True, num_workers=NUN_WORKERS)\n",
    "category_test_loader  = DataLoader(category_test_dataset,  batch_size=BATCH_SIZE, shuffle=True, num_workers=NUN_WORKERS)\n",
    "\n",
    "_, label = category_test_dataset.__getitem__(1)\n",
    "\n",
    "category_classifier = CardClassifier(image_size=torch.Size((134, 134)), \n",
    "                            convolution_structure=[1,8,8,16,16,24,24,32,32],\n",
    "                            expert_output_len=1,\n",
    "                            expert_depth=4,\n",
    "                            output_len=len(label),\n",
    "                            pool_depth=2\n",
    "                            ).to(DEVICE)\n",
    "\n",
    "print(len(label))"
   ]
  },
  {
   "cell_type": "code",
   "execution_count": 5,
   "id": "85a2934b",
   "metadata": {},
   "outputs": [
    {
     "name": "stdout",
     "output_type": "stream",
     "text": [
      "2373308\n",
      "2373449\n"
     ]
    }
   ],
   "source": [
    "print(suit_classifier.n_parameters())\n",
    "print(category_classifier.n_parameters())"
   ]
  },
  {
   "cell_type": "code",
   "execution_count": 6,
   "id": "937304cd",
   "metadata": {},
   "outputs": [
    {
     "name": "stdout",
     "output_type": "stream",
     "text": [
      "Loaded models\n"
     ]
    }
   ],
   "source": [
    "\n",
    "category_checkpoint = torch.load(\"models/checkpoints/category_classifier_checkpoint.pth\")\n",
    "category_classifier.load_state_dict(category_checkpoint['model_state_dict'])\n",
    "category_classifier.eval()\n",
    "category_classifier.to(DEVICE)\n",
    "\n",
    "suit_checkpoint = torch.load(\"models/checkpoints/suit_classifier_checkpoint.pth\")\n",
    "suit_classifier.load_state_dict(suit_checkpoint['model_state_dict'])\n",
    "suit_classifier.eval()\n",
    "suit_classifier.to(DEVICE)\n",
    "\n",
    "print(\"Loaded models\")"
   ]
  },
  {
   "cell_type": "markdown",
   "id": "c028ee29",
   "metadata": {},
   "source": [
    "# GradCam"
   ]
  },
  {
   "cell_type": "code",
   "execution_count": 7,
   "id": "7f7186a3",
   "metadata": {},
   "outputs": [],
   "source": [
    "def generateGradCam(result_path: str, split: str, sample_size: int, model: nn.Module, dataset: Dataset):\n",
    "    target_layer = model.cnn_block.layers[-1]\n",
    "    attention_layer = model.attention_block.batch_norm\n",
    "    grad_cam = AttentionGradCAM(model, target_layer, attention_layer)\n",
    "\n",
    "    # Dict to organize the dictionaries\n",
    "    indices_por_label = defaultdict(list)\n",
    "    for idx in range(len(dataset)):\n",
    "        _, label = dataset[idx]\n",
    "        if hasattr(label, 'argmax'):\n",
    "            label_int = label.argmax(dim=0).item()\n",
    "        else:\n",
    "            label_int = label\n",
    "        indices_por_label[label_int].append(idx)\n",
    "\n",
    "    # For each categorie get at least a sample of the sample_size\n",
    "    for label_val, indices in indices_por_label.items():\n",
    "        if len(indices) > sample_size:\n",
    "            sample_indices = random.sample(indices, sample_size)\n",
    "        else:\n",
    "            sample_indices = indices\n",
    "\n",
    "        # Create subplots\n",
    "        fig, axes = plt.subplots(nrows=len(sample_indices), ncols=2, figsize=(10, 2 * len(sample_indices)))\n",
    "        fig.suptitle(f\"Category {(label_val)}\", fontsize=16)\n",
    "\n",
    "        # Just if the there is only one subplot\n",
    "        if len(sample_indices) == 1:\n",
    "            axes = np.expand_dims(axes, axis=0)\n",
    "\n",
    "        for i, idx in enumerate(sample_indices):\n",
    "            img, _ = dataset[idx]\n",
    "            input_tensor = img.unsqueeze(0).to(DEVICE)\n",
    "            cam, predicted_class = grad_cam.generate_cam(input_tensor)\n",
    "\n",
    "            # Resize the heatmap into the image size\n",
    "            cam = cv2.resize(cam, (img.shape[-1], img.shape[-2]))\n",
    "\n",
    "            # Parse the heatmap into rgb\n",
    "            heatmap = cv2.applyColorMap(np.uint8(255 * cam), cv2.COLORMAP_JET)\n",
    "            heatmap = cv2.cvtColor(heatmap, cv2.COLOR_BGR2RGB)\n",
    "\n",
    "            # Parse the image into rgb instead of grey scale\n",
    "            img_np = img.squeeze().cpu().numpy()\n",
    "            img_np = cv2.cvtColor(np.uint8(255 * img_np), cv2.COLOR_GRAY2RGB)\n",
    "\n",
    "            # Overlab the heatmap\n",
    "            superimposed_img = cv2.addWeighted(heatmap, 0.4, img_np, 0.6, 0)\n",
    "\n",
    "            # Show the original image\n",
    "            axes[i, 0].imshow(img_np)\n",
    "            axes[i, 0].set_title(f\"Original (class {(label_val)})\")\n",
    "            axes[i, 0].axis(\"off\")\n",
    "\n",
    "            # Show the gradcam \n",
    "            axes[i, 1].imshow(superimposed_img)\n",
    "            axes[i, 1].set_title(f\"Grad-CAM (prediction {(predicted_class)})\")\n",
    "            axes[i, 1].axis(\"off\")\n",
    "\n",
    "        plt.tight_layout(rect=[0, 0, 1, 0.95])\n",
    "        os.makedirs(f\"{result_path}/{split}/GradCam/\", exist_ok=True)\n",
    "        plt.savefig(f\"{result_path}/{split}/GradCam/GradCam_{(label_val)}.png\")\n",
    "        \n",
    "        plt.close()"
   ]
  },
  {
   "cell_type": "code",
   "execution_count": 8,
   "id": "7d1663f9",
   "metadata": {},
   "outputs": [
    {
     "name": "stderr",
     "output_type": "stream",
     "text": [
      "/home/lingfeng/Desktop/venvs/pytorch/lib/python3.12/site-packages/torch/nn/modules/module.py:1842: FutureWarning: Using a non-full backward hook when the forward contains multiple autograd Nodes is deprecated and will be removed in future versions. This hook will be missing some grad_input. Please use register_full_backward_hook to get the documented behavior.\n",
      "  self._maybe_warn_non_full_backward_hook(args, result, grad_fn)\n"
     ]
    }
   ],
   "source": [
    "generateGradCam(\"result\", \"category\", 5, category_classifier, category_test_dataset)\n",
    "generateGradCam(\"result\", \"suit\", 5, suit_classifier, suit_test_dataset)"
   ]
  },
  {
   "cell_type": "markdown",
   "id": "38ff575c",
   "metadata": {},
   "source": [
    "# Tree Representation"
   ]
  },
  {
   "cell_type": "code",
   "execution_count": 9,
   "id": "7d01693e",
   "metadata": {},
   "outputs": [],
   "source": [
    "def prediction(image, model):\n",
    "    output = model(image.to(\"cuda\"))\n",
    "    pred_class = torch.argmax(output, dim=1)\n",
    "    return pred_class\n",
    "\n",
    "def get_results(test, model: nn.Module):\n",
    "    true_labels = []\n",
    "    pred_labels = []\n",
    "    expert_outputs = {}\n",
    "    model.eval()\n",
    "    test_loader = DataLoader(test, batch_size=BATCH_SIZE, shuffle=False)\n",
    "    with torch.no_grad():\n",
    "        for images, labels in test_loader:\n",
    "            predictions = prediction(images, model)\n",
    "\n",
    "            for pred, label in zip(predictions, labels):\n",
    "                label_idx = torch.argmax(label).item()\n",
    "                true_labels.append(label_idx)\n",
    "                pred_labels.append(pred.item())\n",
    "                \n",
    "            new_outputs = model.get_expert_output_dict()\n",
    "            if not expert_outputs:\n",
    "                expert_outputs = new_outputs\n",
    "            else:\n",
    "                for k in new_outputs:\n",
    "                    expert_outputs[k] += new_outputs[k]\n",
    "    \n",
    "    expert_outputs[\"true_label\"] = true_labels\n",
    "    expert_outputs[\"pred_label\"] = pred_labels\n",
    "    \n",
    "    return true_labels, pred_labels, expert_outputs\n",
    "\n",
    "def get_results_expert(test_dataset, valid_dataset, model: nn.Module):\n",
    "    _, _, test_expert_dataset = get_results(test=test_dataset, model=model)\n",
    "    df_test = pd.DataFrame(test_expert_dataset)\n",
    "    _,_ , valid_expert_dataset = get_results(test=valid_dataset, model=model)\n",
    "    df_valid = pd.DataFrame(valid_expert_dataset)\n",
    "    df_combined = pd.concat([df_test, df_valid], ignore_index=True)\n",
    "    return df_combined"
   ]
  },
  {
   "cell_type": "code",
   "execution_count": 10,
   "id": "0c9084be",
   "metadata": {},
   "outputs": [],
   "source": [
    "df_suit = get_results_expert(test_dataset=suit_test_dataset, valid_dataset=suit_valid_dataset, model=suit_classifier)\n",
    "df_category = get_results_expert(test_dataset=category_test_dataset, valid_dataset=category_valid_dataset, model=category_classifier)"
   ]
  },
  {
   "cell_type": "code",
   "execution_count": 11,
   "id": "8b4f3dce",
   "metadata": {},
   "outputs": [],
   "source": [
    "df_suit.to_csv(\"result/suit/suit_expert.csv\", index=False)\n",
    "df_category.to_csv(\"result/category/category_expert.csv\", index=False)"
   ]
  },
  {
   "cell_type": "markdown",
   "id": "307798c5",
   "metadata": {},
   "source": [
    "# Trees"
   ]
  },
  {
   "cell_type": "code",
   "execution_count": 12,
   "id": "8f2909d9",
   "metadata": {},
   "outputs": [],
   "source": [
    "\n",
    "def tree_objective(trial, X, Y):\n",
    "    X_train, X_test, y_train, y_test = train_test_split(X, Y, test_size=0.2, random_state=42)\n",
    "    max_depth = trial.suggest_int(\"max_depth\", 1, 20)\n",
    "    min_samples_split = trial.suggest_int(\"min_samples_split\", 2, 20)\n",
    "    min_samples_leaf = trial.suggest_int(\"min_samples_leaf\", 1, 20)\n",
    "    criterion = trial.suggest_categorical(\"criterion\", [\"gini\", \"entropy\"])\n",
    "    clf = DecisionTreeClassifier(\n",
    "        max_depth=max_depth,\n",
    "        min_samples_split=min_samples_split,\n",
    "        min_samples_leaf=min_samples_leaf,\n",
    "        criterion=criterion,\n",
    "        random_state=42\n",
    "    )\n",
    "    clf.fit(X_train, y_train)\n",
    "    y_pred = clf.predict(X_test)\n",
    "    score = precision_score(y_test, y_pred, average='macro', zero_division=0)\n",
    "    return score\n",
    "\n",
    "def find_best_tree_params_optuna(X, Y, n_trials=50):\n",
    "    study = optuna.create_study(direction=\"maximize\")\n",
    "    study.optimize(lambda trial: tree_objective(trial, X, Y), n_trials=n_trials, n_jobs=NUN_WORKERS)\n",
    "    print(\"Best Macro Precision Score:\", study.best_trial.value)\n",
    "    return study.best_trial\n",
    "   \n",
    "def get_decision_tree_svg(csv_file:str, result_path: str, target_label: bool):\n",
    "    df = pd.read_csv(csv_file)\n",
    "    y = df[target_label]\n",
    "    X = df.drop(columns=[\"true_label\", \"pred_label\"]).loc[:, (df != 0).any(axis=0)]\n",
    "    \n",
    "    best_best_trial = find_best_tree_params_optuna(X, y, n_trials=N_TRIALS)\n",
    "\n",
    "    os.makedirs(result_path, exist_ok=True)\n",
    "\n",
    "    with open(f\"{result_path}/best_params.json\", \"w\") as f:\n",
    "        temp_dict = {\"Best_params\": best_best_trial.params, \"Precision_Score\": best_best_trial.value}\n",
    "        json.dump(temp_dict, f, indent=4)\n",
    "\n",
    "    clf = DecisionTreeClassifier(**best_best_trial.params, random_state=SEED)\n",
    "    clf.fit(X, y)\n",
    "\n",
    "    dot_file = f\"{result_path}/tree.dot\"\n",
    "    \n",
    "    with open(dot_file, \"w\") as f:\n",
    "        export_graphviz(clf,\n",
    "                        out_file=f,\n",
    "                        feature_names=X.columns,\n",
    "                        class_names=[str(cls) for cls in clf.classes_],\n",
    "                        filled=True,\n",
    "                        rounded=True,\n",
    "                        special_characters=True)\n",
    "\n",
    "    svg_file = f\"{result_path}/{target_label}.svg\"\n",
    "    subprocess.run([\"dot\", \"-Tsvg\", dot_file, \"-o\", svg_file], check=True)\n"
   ]
  },
  {
   "cell_type": "code",
   "execution_count": 14,
   "id": "e2a69f4a",
   "metadata": {},
   "outputs": [
    {
     "name": "stderr",
     "output_type": "stream",
     "text": [
      "[I 2025-05-07 15:16:04,633] A new study created in memory with name: no-name-fc5c2552-d194-4d5f-bbed-1446a82ddc5a\n"
     ]
    },
    {
     "name": "stderr",
     "output_type": "stream",
     "text": [
      "[W 2025-05-07 15:16:04,649] Trial 1 failed with parameters: {'max_depth': 4, 'min_samples_split': 10, 'min_samples_leaf': 2, 'criterion': 'gini'} because of the following error: ValueError('at least one array or dtype is required').\n",
      "Traceback (most recent call last):\n",
      "  File \"/home/lingfeng/Desktop/venvs/pytorch/lib/python3.12/site-packages/optuna/study/_optimize.py\", line 197, in _run_trial\n",
      "    value_or_values = func(trial)\n",
      "                      ^^^^^^^^^^^\n",
      "  File \"/tmp/ipykernel_42134/559766688.py\", line 21, in <lambda>\n",
      "    study.optimize(lambda trial: tree_objective(trial, X, Y), n_trials=n_trials, n_jobs=NUN_WORKERS)\n",
      "                                 ^^^^^^^^^^^^^^^^^^^^^^^^^^^\n",
      "  File \"/tmp/ipykernel_42134/559766688.py\", line 14, in tree_objective\n",
      "    clf.fit(X_train, y_train)\n",
      "  File \"/home/lingfeng/Desktop/venvs/pytorch/lib/python3.12/site-packages/sklearn/base.py\", line 1389, in wrapper\n",
      "    return fit_method(estimator, *args, **kwargs)\n",
      "           ^^^^^^^^^^^^^^^^^^^^^^^^^^^^^^^^^^^^^^\n",
      "  File \"/home/lingfeng/Desktop/venvs/pytorch/lib/python3.12/site-packages/sklearn/tree/_classes.py\", line 1024, in fit\n",
      "    super()._fit(\n",
      "  File \"/home/lingfeng/Desktop/venvs/pytorch/lib/python3.12/site-packages/sklearn/tree/_classes.py\", line 252, in _fit\n",
      "    X, y = validate_data(\n",
      "           ^^^^^^^^^^^^^^\n",
      "  File \"/home/lingfeng/Desktop/venvs/pytorch/lib/python3.12/site-packages/sklearn/utils/validation.py\", line 2956, in validate_data\n",
      "    X = check_array(X, input_name=\"X\", **check_X_params)\n",
      "        ^^^^^^^^^^^^^^^^^^^^^^^^^^^^^^^^^^^^^^^^^^^^^^^^\n",
      "  File \"/home/lingfeng/Desktop/venvs/pytorch/lib/python3.12/site-packages/sklearn/utils/validation.py\", line 931, in check_array\n",
      "    dtype_orig = np.result_type(*dtypes_orig)\n",
      "                 ^^^^^^^^^^^^^^^^^^^^^^^^^^^^\n",
      "ValueError: at least one array or dtype is required\n",
      "[W 2025-05-07 15:16:04,659] Trial 0 failed with parameters: {'max_depth': 20, 'min_samples_split': 20, 'min_samples_leaf': 9, 'criterion': 'gini'} because of the following error: ValueError('at least one array or dtype is required').\n",
      "Traceback (most recent call last):\n",
      "  File \"/home/lingfeng/Desktop/venvs/pytorch/lib/python3.12/site-packages/optuna/study/_optimize.py\", line 197, in _run_trial\n",
      "    value_or_values = func(trial)\n",
      "                      ^^^^^^^^^^^\n",
      "  File \"/tmp/ipykernel_42134/559766688.py\", line 21, in <lambda>\n",
      "    study.optimize(lambda trial: tree_objective(trial, X, Y), n_trials=n_trials, n_jobs=NUN_WORKERS)\n",
      "                                 ^^^^^^^^^^^^^^^^^^^^^^^^^^^\n",
      "  File \"/tmp/ipykernel_42134/559766688.py\", line 14, in tree_objective\n",
      "    clf.fit(X_train, y_train)\n",
      "  File \"/home/lingfeng/Desktop/venvs/pytorch/lib/python3.12/site-packages/sklearn/base.py\", line 1389, in wrapper\n",
      "    return fit_method(estimator, *args, **kwargs)\n",
      "           ^^^^^^^^^^^^^^^^^^^^^^^^^^^^^^^^^^^^^^\n",
      "  File \"/home/lingfeng/Desktop/venvs/pytorch/lib/python3.12/site-packages/sklearn/tree/_classes.py\", line 1024, in fit\n",
      "    super()._fit(\n",
      "  File \"/home/lingfeng/Desktop/venvs/pytorch/lib/python3.12/site-packages/sklearn/tree/_classes.py\", line 252, in _fit\n",
      "    X, y = validate_data(\n",
      "           ^^^^^^^^^^^^^^\n",
      "  File \"/home/lingfeng/Desktop/venvs/pytorch/lib/python3.12/site-packages/sklearn/utils/validation.py\", line 2956, in validate_data\n",
      "    X = check_array(X, input_name=\"X\", **check_X_params)\n",
      "        ^^^^^^^^^^^^^^^^^^^^^^^^^^^^^^^^^^^^^^^^^^^^^^^^\n",
      "  File \"/home/lingfeng/Desktop/venvs/pytorch/lib/python3.12/site-packages/sklearn/utils/validation.py\", line 931, in check_array\n",
      "    dtype_orig = np.result_type(*dtypes_orig)\n",
      "                 ^^^^^^^^^^^^^^^^^^^^^^^^^^^^\n",
      "ValueError: at least one array or dtype is required\n",
      "[W 2025-05-07 15:16:04,667] Trial 2 failed with parameters: {'max_depth': 20, 'min_samples_split': 2, 'min_samples_leaf': 7, 'criterion': 'gini'} because of the following error: ValueError('at least one array or dtype is required').\n",
      "Traceback (most recent call last):\n",
      "  File \"/home/lingfeng/Desktop/venvs/pytorch/lib/python3.12/site-packages/optuna/study/_optimize.py\", line 197, in _run_trial\n",
      "    value_or_values = func(trial)\n",
      "                      ^^^^^^^^^^^\n",
      "  File \"/tmp/ipykernel_42134/559766688.py\", line 21, in <lambda>\n",
      "    study.optimize(lambda trial: tree_objective(trial, X, Y), n_trials=n_trials, n_jobs=NUN_WORKERS)\n",
      "                                 ^^^^^^^^^^^^^^^^^^^^^^^^^^^\n",
      "  File \"/tmp/ipykernel_42134/559766688.py\", line 14, in tree_objective\n",
      "    clf.fit(X_train, y_train)\n",
      "  File \"/home/lingfeng/Desktop/venvs/pytorch/lib/python3.12/site-packages/sklearn/base.py\", line 1389, in wrapper\n",
      "    return fit_method(estimator, *args, **kwargs)\n",
      "           ^^^^^^^^^^^^^^^^^^^^^^^^^^^^^^^^^^^^^^\n",
      "  File \"/home/lingfeng/Desktop/venvs/pytorch/lib/python3.12/site-packages/sklearn/tree/_classes.py\", line 1024, in fit\n",
      "    super()._fit(\n",
      "  File \"/home/lingfeng/Desktop/venvs/pytorch/lib/python3.12/site-packages/sklearn/tree/_classes.py\", line 252, in _fit\n",
      "    X, y = validate_data(\n",
      "           ^^^^^^^^^^^^^^\n",
      "  File \"/home/lingfeng/Desktop/venvs/pytorch/lib/python3.12/site-packages/sklearn/utils/validation.py\", line 2956, in validate_data\n",
      "    X = check_array(X, input_name=\"X\", **check_X_params)\n",
      "        ^^^^^^^^^^^^^^^^^^^^^^^^^^^^^^^^^^^^^^^^^^^^^^^^\n",
      "  File \"/home/lingfeng/Desktop/venvs/pytorch/lib/python3.12/site-packages/sklearn/utils/validation.py\", line 931, in check_array\n",
      "    dtype_orig = np.result_type(*dtypes_orig)\n",
      "                 ^^^^^^^^^^^^^^^^^^^^^^^^^^^^\n",
      "ValueError: at least one array or dtype is required\n",
      "[W 2025-05-07 15:16:04,681] Trial 4 failed with parameters: {'max_depth': 6, 'min_samples_split': 20, 'min_samples_leaf': 10, 'criterion': 'gini'} because of the following error: ValueError('at least one array or dtype is required').\n",
      "Traceback (most recent call last):\n",
      "  File \"/home/lingfeng/Desktop/venvs/pytorch/lib/python3.12/site-packages/optuna/study/_optimize.py\", line 197, in _run_trial\n",
      "    value_or_values = func(trial)\n",
      "                      ^^^^^^^^^^^\n",
      "  File \"/tmp/ipykernel_42134/559766688.py\", line 21, in <lambda>\n",
      "    study.optimize(lambda trial: tree_objective(trial, X, Y), n_trials=n_trials, n_jobs=NUN_WORKERS)\n",
      "                                 ^^^^^^^^^^^^^^^^^^^^^^^^^^^\n",
      "  File \"/tmp/ipykernel_42134/559766688.py\", line 14, in tree_objective\n",
      "    clf.fit(X_train, y_train)\n",
      "  File \"/home/lingfeng/Desktop/venvs/pytorch/lib/python3.12/site-packages/sklearn/base.py\", line 1389, in wrapper\n",
      "    return fit_method(estimator, *args, **kwargs)\n",
      "           ^^^^^^^^^^^^^^^^^^^^^^^^^^^^^^^^^^^^^^\n",
      "  File \"/home/lingfeng/Desktop/venvs/pytorch/lib/python3.12/site-packages/sklearn/tree/_classes.py\", line 1024, in fit\n",
      "    super()._fit(\n",
      "  File \"/home/lingfeng/Desktop/venvs/pytorch/lib/python3.12/site-packages/sklearn/tree/_classes.py\", line 252, in _fit\n",
      "    X, y = validate_data(\n",
      "           ^^^^^^^^^^^^^^\n",
      "  File \"/home/lingfeng/Desktop/venvs/pytorch/lib/python3.12/site-packages/sklearn/utils/validation.py\", line 2956, in validate_data\n",
      "    X = check_array(X, input_name=\"X\", **check_X_params)\n",
      "        ^^^^^^^^^^^^^^^^^^^^^^^^^^^^^^^^^^^^^^^^^^^^^^^^\n",
      "  File \"/home/lingfeng/Desktop/venvs/pytorch/lib/python3.12/site-packages/sklearn/utils/validation.py\", line 931, in check_array\n",
      "    dtype_orig = np.result_type(*dtypes_orig)\n",
      "                 ^^^^^^^^^^^^^^^^^^^^^^^^^^^^\n",
      "ValueError: at least one array or dtype is required\n",
      "[W 2025-05-07 15:16:04,684] Trial 3 failed with parameters: {'max_depth': 14, 'min_samples_split': 14, 'min_samples_leaf': 7, 'criterion': 'entropy'} because of the following error: ValueError('at least one array or dtype is required').\n",
      "Traceback (most recent call last):\n",
      "  File \"/home/lingfeng/Desktop/venvs/pytorch/lib/python3.12/site-packages/optuna/study/_optimize.py\", line 197, in _run_trial\n",
      "    value_or_values = func(trial)\n",
      "                      ^^^^^^^^^^^\n",
      "  File \"/tmp/ipykernel_42134/559766688.py\", line 21, in <lambda>\n",
      "    study.optimize(lambda trial: tree_objective(trial, X, Y), n_trials=n_trials, n_jobs=NUN_WORKERS)\n",
      "                                 ^^^^^^^^^^^^^^^^^^^^^^^^^^^\n",
      "  File \"/tmp/ipykernel_42134/559766688.py\", line 14, in tree_objective\n",
      "    clf.fit(X_train, y_train)\n",
      "  File \"/home/lingfeng/Desktop/venvs/pytorch/lib/python3.12/site-packages/sklearn/base.py\", line 1389, in wrapper\n",
      "    return fit_method(estimator, *args, **kwargs)\n",
      "           ^^^^^^^^^^^^^^^^^^^^^^^^^^^^^^^^^^^^^^\n",
      "  File \"/home/lingfeng/Desktop/venvs/pytorch/lib/python3.12/site-packages/sklearn/tree/_classes.py\", line 1024, in fit\n",
      "    super()._fit(\n",
      "  File \"/home/lingfeng/Desktop/venvs/pytorch/lib/python3.12/site-packages/sklearn/tree/_classes.py\", line 252, in _fit\n",
      "    X, y = validate_data(\n",
      "           ^^^^^^^^^^^^^^\n",
      "  File \"/home/lingfeng/Desktop/venvs/pytorch/lib/python3.12/site-packages/sklearn/utils/validation.py\", line 2956, in validate_data\n",
      "    X = check_array(X, input_name=\"X\", **check_X_params)\n",
      "        ^^^^^^^^^^^^^^^^^^^^^^^^^^^^^^^^^^^^^^^^^^^^^^^^\n",
      "  File \"/home/lingfeng/Desktop/venvs/pytorch/lib/python3.12/site-packages/sklearn/utils/validation.py\", line 931, in check_array\n",
      "    dtype_orig = np.result_type(*dtypes_orig)\n",
      "                 ^^^^^^^^^^^^^^^^^^^^^^^^^^^^\n",
      "ValueError: at least one array or dtype is required\n",
      "[W 2025-05-07 15:16:04,691] Trial 5 failed with parameters: {'max_depth': 12, 'min_samples_split': 15, 'min_samples_leaf': 14, 'criterion': 'entropy'} because of the following error: ValueError('at least one array or dtype is required').\n",
      "Traceback (most recent call last):\n",
      "  File \"/home/lingfeng/Desktop/venvs/pytorch/lib/python3.12/site-packages/optuna/study/_optimize.py\", line 197, in _run_trial\n",
      "    value_or_values = func(trial)\n",
      "                      ^^^^^^^^^^^\n",
      "  File \"/tmp/ipykernel_42134/559766688.py\", line 21, in <lambda>\n",
      "    study.optimize(lambda trial: tree_objective(trial, X, Y), n_trials=n_trials, n_jobs=NUN_WORKERS)\n",
      "                                 ^^^^^^^^^^^^^^^^^^^^^^^^^^^\n",
      "  File \"/tmp/ipykernel_42134/559766688.py\", line 14, in tree_objective\n",
      "    clf.fit(X_train, y_train)\n",
      "  File \"/home/lingfeng/Desktop/venvs/pytorch/lib/python3.12/site-packages/sklearn/base.py\", line 1389, in wrapper\n",
      "    return fit_method(estimator, *args, **kwargs)\n",
      "           ^^^^^^^^^^^^^^^^^^^^^^^^^^^^^^^^^^^^^^\n",
      "  File \"/home/lingfeng/Desktop/venvs/pytorch/lib/python3.12/site-packages/sklearn/tree/_classes.py\", line 1024, in fit\n",
      "    super()._fit(\n",
      "  File \"/home/lingfeng/Desktop/venvs/pytorch/lib/python3.12/site-packages/sklearn/tree/_classes.py\", line 252, in _fit\n",
      "    X, y = validate_data(\n",
      "           ^^^^^^^^^^^^^^\n",
      "  File \"/home/lingfeng/Desktop/venvs/pytorch/lib/python3.12/site-packages/sklearn/utils/validation.py\", line 2956, in validate_data\n",
      "    X = check_array(X, input_name=\"X\", **check_X_params)\n",
      "        ^^^^^^^^^^^^^^^^^^^^^^^^^^^^^^^^^^^^^^^^^^^^^^^^\n",
      "  File \"/home/lingfeng/Desktop/venvs/pytorch/lib/python3.12/site-packages/sklearn/utils/validation.py\", line 931, in check_array\n",
      "    dtype_orig = np.result_type(*dtypes_orig)\n",
      "                 ^^^^^^^^^^^^^^^^^^^^^^^^^^^^\n",
      "ValueError: at least one array or dtype is required\n",
      "[W 2025-05-07 15:16:04,698] Trial 1 failed with value None.\n",
      "[W 2025-05-07 15:16:04,702] Trial 0 failed with value None.\n",
      "[W 2025-05-07 15:16:04,705] Trial 2 failed with value None.\n",
      "[W 2025-05-07 15:16:04,709] Trial 4 failed with value None.\n",
      "[W 2025-05-07 15:16:04,713] Trial 3 failed with value None.\n",
      "[W 2025-05-07 15:16:04,716] Trial 5 failed with value None.\n"
     ]
    },
    {
     "ename": "ValueError",
     "evalue": "at least one array or dtype is required",
     "output_type": "error",
     "traceback": [
      "\u001b[31m---------------------------------------------------------------------------\u001b[39m",
      "\u001b[31mValueError\u001b[39m                                Traceback (most recent call last)",
      "\u001b[36mCell\u001b[39m\u001b[36m \u001b[39m\u001b[32mIn[14]\u001b[39m\u001b[32m, line 1\u001b[39m\n\u001b[32m----> \u001b[39m\u001b[32m1\u001b[39m \u001b[43mget_decision_tree_svg\u001b[49m\u001b[43m(\u001b[49m\u001b[43mcsv_file\u001b[49m\u001b[43m=\u001b[49m\u001b[33;43m\"\u001b[39;49m\u001b[33;43mresult/suit/suit_expert.csv\u001b[39;49m\u001b[33;43m\"\u001b[39;49m\u001b[43m,\u001b[49m\u001b[43m \u001b[49m\u001b[43mresult_path\u001b[49m\u001b[43m=\u001b[49m\u001b[33;43m\"\u001b[39;49m\u001b[33;43mresult\u001b[39;49m\u001b[33;43m\"\u001b[39;49m\u001b[43m,\u001b[49m\u001b[43m \u001b[49m\u001b[43mtarget_label\u001b[49m\u001b[43m=\u001b[49m\u001b[33;43m\"\u001b[39;49m\u001b[33;43mpred_label\u001b[39;49m\u001b[33;43m\"\u001b[39;49m\u001b[43m)\u001b[49m\n\u001b[32m      2\u001b[39m get_decision_tree_svg(csv_file=\u001b[33m\"\u001b[39m\u001b[33mresult/suit/suit_expert.csv\u001b[39m\u001b[33m\"\u001b[39m, result_path=\u001b[33m\"\u001b[39m\u001b[33mresult\u001b[39m\u001b[33m\"\u001b[39m, target_label=\u001b[33m\"\u001b[39m\u001b[33mtrue_label\u001b[39m\u001b[33m\"\u001b[39m)\n\u001b[32m      3\u001b[39m get_decision_tree_svg(csv_file=\u001b[33m\"\u001b[39m\u001b[33mresult/category/category_expert.csv\u001b[39m\u001b[33m\"\u001b[39m, result_path=\u001b[33m\"\u001b[39m\u001b[33mresult\u001b[39m\u001b[33m\"\u001b[39m, target_label=\u001b[33m\"\u001b[39m\u001b[33mpred_label\u001b[39m\u001b[33m\"\u001b[39m)\n",
      "\u001b[36mCell\u001b[39m\u001b[36m \u001b[39m\u001b[32mIn[12]\u001b[39m\u001b[32m, line 30\u001b[39m, in \u001b[36mget_decision_tree_svg\u001b[39m\u001b[34m(csv_file, result_path, target_label)\u001b[39m\n\u001b[32m     27\u001b[39m y = df[target_label]\n\u001b[32m     28\u001b[39m X = df.drop(columns=[\u001b[33m\"\u001b[39m\u001b[33mtrue_label\u001b[39m\u001b[33m\"\u001b[39m, \u001b[33m\"\u001b[39m\u001b[33mpred_label\u001b[39m\u001b[33m\"\u001b[39m]).loc[:, (df != \u001b[32m0\u001b[39m).any(axis=\u001b[32m0\u001b[39m)]\n\u001b[32m---> \u001b[39m\u001b[32m30\u001b[39m best_best_trial = \u001b[43mfind_best_tree_params_optuna\u001b[49m\u001b[43m(\u001b[49m\u001b[43mX\u001b[49m\u001b[43m,\u001b[49m\u001b[43m \u001b[49m\u001b[43my\u001b[49m\u001b[43m,\u001b[49m\u001b[43m \u001b[49m\u001b[43mn_trials\u001b[49m\u001b[43m=\u001b[49m\u001b[43mN_TRIALS\u001b[49m\u001b[43m)\u001b[49m\n\u001b[32m     32\u001b[39m os.makedirs(result_path, exist_ok=\u001b[38;5;28;01mTrue\u001b[39;00m)\n\u001b[32m     34\u001b[39m \u001b[38;5;28;01mwith\u001b[39;00m \u001b[38;5;28mopen\u001b[39m(\u001b[33mf\u001b[39m\u001b[33m\"\u001b[39m\u001b[38;5;132;01m{\u001b[39;00mresult_path\u001b[38;5;132;01m}\u001b[39;00m\u001b[33m/best_params.json\u001b[39m\u001b[33m\"\u001b[39m, \u001b[33m\"\u001b[39m\u001b[33mw\u001b[39m\u001b[33m\"\u001b[39m) \u001b[38;5;28;01mas\u001b[39;00m f:\n",
      "\u001b[36mCell\u001b[39m\u001b[36m \u001b[39m\u001b[32mIn[12]\u001b[39m\u001b[32m, line 21\u001b[39m, in \u001b[36mfind_best_tree_params_optuna\u001b[39m\u001b[34m(X, Y, n_trials)\u001b[39m\n\u001b[32m     19\u001b[39m \u001b[38;5;28;01mdef\u001b[39;00m\u001b[38;5;250m \u001b[39m\u001b[34mfind_best_tree_params_optuna\u001b[39m(X, Y, n_trials=\u001b[32m50\u001b[39m):\n\u001b[32m     20\u001b[39m     study = optuna.create_study(direction=\u001b[33m\"\u001b[39m\u001b[33mmaximize\u001b[39m\u001b[33m\"\u001b[39m)\n\u001b[32m---> \u001b[39m\u001b[32m21\u001b[39m     \u001b[43mstudy\u001b[49m\u001b[43m.\u001b[49m\u001b[43moptimize\u001b[49m\u001b[43m(\u001b[49m\u001b[38;5;28;43;01mlambda\u001b[39;49;00m\u001b[43m \u001b[49m\u001b[43mtrial\u001b[49m\u001b[43m:\u001b[49m\u001b[43m \u001b[49m\u001b[43mtree_objective\u001b[49m\u001b[43m(\u001b[49m\u001b[43mtrial\u001b[49m\u001b[43m,\u001b[49m\u001b[43m \u001b[49m\u001b[43mX\u001b[49m\u001b[43m,\u001b[49m\u001b[43m \u001b[49m\u001b[43mY\u001b[49m\u001b[43m)\u001b[49m\u001b[43m,\u001b[49m\u001b[43m \u001b[49m\u001b[43mn_trials\u001b[49m\u001b[43m=\u001b[49m\u001b[43mn_trials\u001b[49m\u001b[43m,\u001b[49m\u001b[43m \u001b[49m\u001b[43mn_jobs\u001b[49m\u001b[43m=\u001b[49m\u001b[43mNUN_WORKERS\u001b[49m\u001b[43m)\u001b[49m\n\u001b[32m     22\u001b[39m     \u001b[38;5;28mprint\u001b[39m(\u001b[33m\"\u001b[39m\u001b[33mBest Macro Precision Score:\u001b[39m\u001b[33m\"\u001b[39m, study.best_trial.value)\n\u001b[32m     23\u001b[39m     \u001b[38;5;28;01mreturn\u001b[39;00m study.best_trial\n",
      "\u001b[36mFile \u001b[39m\u001b[32m~/Desktop/venvs/pytorch/lib/python3.12/site-packages/optuna/study/study.py:475\u001b[39m, in \u001b[36mStudy.optimize\u001b[39m\u001b[34m(self, func, n_trials, timeout, n_jobs, catch, callbacks, gc_after_trial, show_progress_bar)\u001b[39m\n\u001b[32m    373\u001b[39m \u001b[38;5;28;01mdef\u001b[39;00m\u001b[38;5;250m \u001b[39m\u001b[34moptimize\u001b[39m(\n\u001b[32m    374\u001b[39m     \u001b[38;5;28mself\u001b[39m,\n\u001b[32m    375\u001b[39m     func: ObjectiveFuncType,\n\u001b[32m   (...)\u001b[39m\u001b[32m    382\u001b[39m     show_progress_bar: \u001b[38;5;28mbool\u001b[39m = \u001b[38;5;28;01mFalse\u001b[39;00m,\n\u001b[32m    383\u001b[39m ) -> \u001b[38;5;28;01mNone\u001b[39;00m:\n\u001b[32m    384\u001b[39m \u001b[38;5;250m    \u001b[39m\u001b[33;03m\"\"\"Optimize an objective function.\u001b[39;00m\n\u001b[32m    385\u001b[39m \n\u001b[32m    386\u001b[39m \u001b[33;03m    Optimization is done by choosing a suitable set of hyperparameter values from a given\u001b[39;00m\n\u001b[32m   (...)\u001b[39m\u001b[32m    473\u001b[39m \u001b[33;03m            If nested invocation of this method occurs.\u001b[39;00m\n\u001b[32m    474\u001b[39m \u001b[33;03m    \"\"\"\u001b[39;00m\n\u001b[32m--> \u001b[39m\u001b[32m475\u001b[39m     \u001b[43m_optimize\u001b[49m\u001b[43m(\u001b[49m\n\u001b[32m    476\u001b[39m \u001b[43m        \u001b[49m\u001b[43mstudy\u001b[49m\u001b[43m=\u001b[49m\u001b[38;5;28;43mself\u001b[39;49m\u001b[43m,\u001b[49m\n\u001b[32m    477\u001b[39m \u001b[43m        \u001b[49m\u001b[43mfunc\u001b[49m\u001b[43m=\u001b[49m\u001b[43mfunc\u001b[49m\u001b[43m,\u001b[49m\n\u001b[32m    478\u001b[39m \u001b[43m        \u001b[49m\u001b[43mn_trials\u001b[49m\u001b[43m=\u001b[49m\u001b[43mn_trials\u001b[49m\u001b[43m,\u001b[49m\n\u001b[32m    479\u001b[39m \u001b[43m        \u001b[49m\u001b[43mtimeout\u001b[49m\u001b[43m=\u001b[49m\u001b[43mtimeout\u001b[49m\u001b[43m,\u001b[49m\n\u001b[32m    480\u001b[39m \u001b[43m        \u001b[49m\u001b[43mn_jobs\u001b[49m\u001b[43m=\u001b[49m\u001b[43mn_jobs\u001b[49m\u001b[43m,\u001b[49m\n\u001b[32m    481\u001b[39m \u001b[43m        \u001b[49m\u001b[43mcatch\u001b[49m\u001b[43m=\u001b[49m\u001b[38;5;28;43mtuple\u001b[39;49m\u001b[43m(\u001b[49m\u001b[43mcatch\u001b[49m\u001b[43m)\u001b[49m\u001b[43m \u001b[49m\u001b[38;5;28;43;01mif\u001b[39;49;00m\u001b[43m \u001b[49m\u001b[38;5;28;43misinstance\u001b[39;49m\u001b[43m(\u001b[49m\u001b[43mcatch\u001b[49m\u001b[43m,\u001b[49m\u001b[43m \u001b[49m\u001b[43mIterable\u001b[49m\u001b[43m)\u001b[49m\u001b[43m \u001b[49m\u001b[38;5;28;43;01melse\u001b[39;49;00m\u001b[43m \u001b[49m\u001b[43m(\u001b[49m\u001b[43mcatch\u001b[49m\u001b[43m,\u001b[49m\u001b[43m)\u001b[49m\u001b[43m,\u001b[49m\n\u001b[32m    482\u001b[39m \u001b[43m        \u001b[49m\u001b[43mcallbacks\u001b[49m\u001b[43m=\u001b[49m\u001b[43mcallbacks\u001b[49m\u001b[43m,\u001b[49m\n\u001b[32m    483\u001b[39m \u001b[43m        \u001b[49m\u001b[43mgc_after_trial\u001b[49m\u001b[43m=\u001b[49m\u001b[43mgc_after_trial\u001b[49m\u001b[43m,\u001b[49m\n\u001b[32m    484\u001b[39m \u001b[43m        \u001b[49m\u001b[43mshow_progress_bar\u001b[49m\u001b[43m=\u001b[49m\u001b[43mshow_progress_bar\u001b[49m\u001b[43m,\u001b[49m\n\u001b[32m    485\u001b[39m \u001b[43m    \u001b[49m\u001b[43m)\u001b[49m\n",
      "\u001b[36mFile \u001b[39m\u001b[32m~/Desktop/venvs/pytorch/lib/python3.12/site-packages/optuna/study/_optimize.py:100\u001b[39m, in \u001b[36m_optimize\u001b[39m\u001b[34m(study, func, n_trials, timeout, n_jobs, catch, callbacks, gc_after_trial, show_progress_bar)\u001b[39m\n\u001b[32m     98\u001b[39m                     \u001b[38;5;66;03m# Raise if exception occurred in executing the completed futures.\u001b[39;00m\n\u001b[32m     99\u001b[39m                     \u001b[38;5;28;01mfor\u001b[39;00m f \u001b[38;5;129;01min\u001b[39;00m completed:\n\u001b[32m--> \u001b[39m\u001b[32m100\u001b[39m                         \u001b[43mf\u001b[49m\u001b[43m.\u001b[49m\u001b[43mresult\u001b[49m\u001b[43m(\u001b[49m\u001b[43m)\u001b[49m\n\u001b[32m    102\u001b[39m                 futures.add(\n\u001b[32m    103\u001b[39m                     executor.submit(\n\u001b[32m    104\u001b[39m                         _optimize_sequential,\n\u001b[32m   (...)\u001b[39m\u001b[32m    115\u001b[39m                     )\n\u001b[32m    116\u001b[39m                 )\n\u001b[32m    117\u001b[39m \u001b[38;5;28;01mfinally\u001b[39;00m:\n",
      "\u001b[36mFile \u001b[39m\u001b[32m/usr/lib/python3.12/concurrent/futures/_base.py:449\u001b[39m, in \u001b[36mFuture.result\u001b[39m\u001b[34m(self, timeout)\u001b[39m\n\u001b[32m    447\u001b[39m     \u001b[38;5;28;01mraise\u001b[39;00m CancelledError()\n\u001b[32m    448\u001b[39m \u001b[38;5;28;01melif\u001b[39;00m \u001b[38;5;28mself\u001b[39m._state == FINISHED:\n\u001b[32m--> \u001b[39m\u001b[32m449\u001b[39m     \u001b[38;5;28;01mreturn\u001b[39;00m \u001b[38;5;28;43mself\u001b[39;49m\u001b[43m.\u001b[49m\u001b[43m__get_result\u001b[49m\u001b[43m(\u001b[49m\u001b[43m)\u001b[49m\n\u001b[32m    451\u001b[39m \u001b[38;5;28mself\u001b[39m._condition.wait(timeout)\n\u001b[32m    453\u001b[39m \u001b[38;5;28;01mif\u001b[39;00m \u001b[38;5;28mself\u001b[39m._state \u001b[38;5;129;01min\u001b[39;00m [CANCELLED, CANCELLED_AND_NOTIFIED]:\n",
      "\u001b[36mFile \u001b[39m\u001b[32m/usr/lib/python3.12/concurrent/futures/_base.py:401\u001b[39m, in \u001b[36mFuture.__get_result\u001b[39m\u001b[34m(self)\u001b[39m\n\u001b[32m    399\u001b[39m \u001b[38;5;28;01mif\u001b[39;00m \u001b[38;5;28mself\u001b[39m._exception:\n\u001b[32m    400\u001b[39m     \u001b[38;5;28;01mtry\u001b[39;00m:\n\u001b[32m--> \u001b[39m\u001b[32m401\u001b[39m         \u001b[38;5;28;01mraise\u001b[39;00m \u001b[38;5;28mself\u001b[39m._exception\n\u001b[32m    402\u001b[39m     \u001b[38;5;28;01mfinally\u001b[39;00m:\n\u001b[32m    403\u001b[39m         \u001b[38;5;66;03m# Break a reference cycle with the exception in self._exception\u001b[39;00m\n\u001b[32m    404\u001b[39m         \u001b[38;5;28mself\u001b[39m = \u001b[38;5;28;01mNone\u001b[39;00m\n",
      "\u001b[36mFile \u001b[39m\u001b[32m/usr/lib/python3.12/concurrent/futures/thread.py:58\u001b[39m, in \u001b[36m_WorkItem.run\u001b[39m\u001b[34m(self)\u001b[39m\n\u001b[32m     55\u001b[39m     \u001b[38;5;28;01mreturn\u001b[39;00m\n\u001b[32m     57\u001b[39m \u001b[38;5;28;01mtry\u001b[39;00m:\n\u001b[32m---> \u001b[39m\u001b[32m58\u001b[39m     result = \u001b[38;5;28;43mself\u001b[39;49m\u001b[43m.\u001b[49m\u001b[43mfn\u001b[49m\u001b[43m(\u001b[49m\u001b[43m*\u001b[49m\u001b[38;5;28;43mself\u001b[39;49m\u001b[43m.\u001b[49m\u001b[43margs\u001b[49m\u001b[43m,\u001b[49m\u001b[43m \u001b[49m\u001b[43m*\u001b[49m\u001b[43m*\u001b[49m\u001b[38;5;28;43mself\u001b[39;49m\u001b[43m.\u001b[49m\u001b[43mkwargs\u001b[49m\u001b[43m)\u001b[49m\n\u001b[32m     59\u001b[39m \u001b[38;5;28;01mexcept\u001b[39;00m \u001b[38;5;167;01mBaseException\u001b[39;00m \u001b[38;5;28;01mas\u001b[39;00m exc:\n\u001b[32m     60\u001b[39m     \u001b[38;5;28mself\u001b[39m.future.set_exception(exc)\n",
      "\u001b[36mFile \u001b[39m\u001b[32m~/Desktop/venvs/pytorch/lib/python3.12/site-packages/optuna/study/_optimize.py:160\u001b[39m, in \u001b[36m_optimize_sequential\u001b[39m\u001b[34m(study, func, n_trials, timeout, catch, callbacks, gc_after_trial, reseed_sampler_rng, time_start, progress_bar)\u001b[39m\n\u001b[32m    157\u001b[39m         \u001b[38;5;28;01mbreak\u001b[39;00m\n\u001b[32m    159\u001b[39m \u001b[38;5;28;01mtry\u001b[39;00m:\n\u001b[32m--> \u001b[39m\u001b[32m160\u001b[39m     frozen_trial = \u001b[43m_run_trial\u001b[49m\u001b[43m(\u001b[49m\u001b[43mstudy\u001b[49m\u001b[43m,\u001b[49m\u001b[43m \u001b[49m\u001b[43mfunc\u001b[49m\u001b[43m,\u001b[49m\u001b[43m \u001b[49m\u001b[43mcatch\u001b[49m\u001b[43m)\u001b[49m\n\u001b[32m    161\u001b[39m \u001b[38;5;28;01mfinally\u001b[39;00m:\n\u001b[32m    162\u001b[39m     \u001b[38;5;66;03m# The following line mitigates memory problems that can be occurred in some\u001b[39;00m\n\u001b[32m    163\u001b[39m     \u001b[38;5;66;03m# environments (e.g., services that use computing containers such as GitHub Actions).\u001b[39;00m\n\u001b[32m    164\u001b[39m     \u001b[38;5;66;03m# Please refer to the following PR for further details:\u001b[39;00m\n\u001b[32m    165\u001b[39m     \u001b[38;5;66;03m# https://github.com/optuna/optuna/pull/325.\u001b[39;00m\n\u001b[32m    166\u001b[39m     \u001b[38;5;28;01mif\u001b[39;00m gc_after_trial:\n",
      "\u001b[36mFile \u001b[39m\u001b[32m~/Desktop/venvs/pytorch/lib/python3.12/site-packages/optuna/study/_optimize.py:248\u001b[39m, in \u001b[36m_run_trial\u001b[39m\u001b[34m(study, func, catch)\u001b[39m\n\u001b[32m    241\u001b[39m         \u001b[38;5;28;01massert\u001b[39;00m \u001b[38;5;28;01mFalse\u001b[39;00m, \u001b[33m\"\u001b[39m\u001b[33mShould not reach.\u001b[39m\u001b[33m\"\u001b[39m\n\u001b[32m    243\u001b[39m \u001b[38;5;28;01mif\u001b[39;00m (\n\u001b[32m    244\u001b[39m     frozen_trial.state == TrialState.FAIL\n\u001b[32m    245\u001b[39m     \u001b[38;5;129;01mand\u001b[39;00m func_err \u001b[38;5;129;01mis\u001b[39;00m \u001b[38;5;129;01mnot\u001b[39;00m \u001b[38;5;28;01mNone\u001b[39;00m\n\u001b[32m    246\u001b[39m     \u001b[38;5;129;01mand\u001b[39;00m \u001b[38;5;129;01mnot\u001b[39;00m \u001b[38;5;28misinstance\u001b[39m(func_err, catch)\n\u001b[32m    247\u001b[39m ):\n\u001b[32m--> \u001b[39m\u001b[32m248\u001b[39m     \u001b[38;5;28;01mraise\u001b[39;00m func_err\n\u001b[32m    249\u001b[39m \u001b[38;5;28;01mreturn\u001b[39;00m frozen_trial\n",
      "\u001b[36mFile \u001b[39m\u001b[32m~/Desktop/venvs/pytorch/lib/python3.12/site-packages/optuna/study/_optimize.py:197\u001b[39m, in \u001b[36m_run_trial\u001b[39m\u001b[34m(study, func, catch)\u001b[39m\n\u001b[32m    195\u001b[39m \u001b[38;5;28;01mwith\u001b[39;00m get_heartbeat_thread(trial._trial_id, study._storage):\n\u001b[32m    196\u001b[39m     \u001b[38;5;28;01mtry\u001b[39;00m:\n\u001b[32m--> \u001b[39m\u001b[32m197\u001b[39m         value_or_values = \u001b[43mfunc\u001b[49m\u001b[43m(\u001b[49m\u001b[43mtrial\u001b[49m\u001b[43m)\u001b[49m\n\u001b[32m    198\u001b[39m     \u001b[38;5;28;01mexcept\u001b[39;00m exceptions.TrialPruned \u001b[38;5;28;01mas\u001b[39;00m e:\n\u001b[32m    199\u001b[39m         \u001b[38;5;66;03m# TODO(mamu): Handle multi-objective cases.\u001b[39;00m\n\u001b[32m    200\u001b[39m         state = TrialState.PRUNED\n",
      "\u001b[36mCell\u001b[39m\u001b[36m \u001b[39m\u001b[32mIn[12]\u001b[39m\u001b[32m, line 21\u001b[39m, in \u001b[36mfind_best_tree_params_optuna.<locals>.<lambda>\u001b[39m\u001b[34m(trial)\u001b[39m\n\u001b[32m     19\u001b[39m \u001b[38;5;28;01mdef\u001b[39;00m\u001b[38;5;250m \u001b[39m\u001b[34mfind_best_tree_params_optuna\u001b[39m(X, Y, n_trials=\u001b[32m50\u001b[39m):\n\u001b[32m     20\u001b[39m     study = optuna.create_study(direction=\u001b[33m\"\u001b[39m\u001b[33mmaximize\u001b[39m\u001b[33m\"\u001b[39m)\n\u001b[32m---> \u001b[39m\u001b[32m21\u001b[39m     study.optimize(\u001b[38;5;28;01mlambda\u001b[39;00m trial: \u001b[43mtree_objective\u001b[49m\u001b[43m(\u001b[49m\u001b[43mtrial\u001b[49m\u001b[43m,\u001b[49m\u001b[43m \u001b[49m\u001b[43mX\u001b[49m\u001b[43m,\u001b[49m\u001b[43m \u001b[49m\u001b[43mY\u001b[49m\u001b[43m)\u001b[49m, n_trials=n_trials, n_jobs=NUN_WORKERS)\n\u001b[32m     22\u001b[39m     \u001b[38;5;28mprint\u001b[39m(\u001b[33m\"\u001b[39m\u001b[33mBest Macro Precision Score:\u001b[39m\u001b[33m\"\u001b[39m, study.best_trial.value)\n\u001b[32m     23\u001b[39m     \u001b[38;5;28;01mreturn\u001b[39;00m study.best_trial\n",
      "\u001b[36mCell\u001b[39m\u001b[36m \u001b[39m\u001b[32mIn[12]\u001b[39m\u001b[32m, line 14\u001b[39m, in \u001b[36mtree_objective\u001b[39m\u001b[34m(trial, X, Y)\u001b[39m\n\u001b[32m      6\u001b[39m criterion = trial.suggest_categorical(\u001b[33m\"\u001b[39m\u001b[33mcriterion\u001b[39m\u001b[33m\"\u001b[39m, [\u001b[33m\"\u001b[39m\u001b[33mgini\u001b[39m\u001b[33m\"\u001b[39m, \u001b[33m\"\u001b[39m\u001b[33mentropy\u001b[39m\u001b[33m\"\u001b[39m])\n\u001b[32m      7\u001b[39m clf = DecisionTreeClassifier(\n\u001b[32m      8\u001b[39m     max_depth=max_depth,\n\u001b[32m      9\u001b[39m     min_samples_split=min_samples_split,\n\u001b[32m   (...)\u001b[39m\u001b[32m     12\u001b[39m     random_state=\u001b[32m42\u001b[39m\n\u001b[32m     13\u001b[39m )\n\u001b[32m---> \u001b[39m\u001b[32m14\u001b[39m \u001b[43mclf\u001b[49m\u001b[43m.\u001b[49m\u001b[43mfit\u001b[49m\u001b[43m(\u001b[49m\u001b[43mX_train\u001b[49m\u001b[43m,\u001b[49m\u001b[43m \u001b[49m\u001b[43my_train\u001b[49m\u001b[43m)\u001b[49m\n\u001b[32m     15\u001b[39m y_pred = clf.predict(X_test)\n\u001b[32m     16\u001b[39m score = precision_score(y_test, y_pred, average=\u001b[33m'\u001b[39m\u001b[33mmacro\u001b[39m\u001b[33m'\u001b[39m, zero_division=\u001b[32m0\u001b[39m)\n",
      "\u001b[36mFile \u001b[39m\u001b[32m~/Desktop/venvs/pytorch/lib/python3.12/site-packages/sklearn/base.py:1389\u001b[39m, in \u001b[36m_fit_context.<locals>.decorator.<locals>.wrapper\u001b[39m\u001b[34m(estimator, *args, **kwargs)\u001b[39m\n\u001b[32m   1382\u001b[39m     estimator._validate_params()\n\u001b[32m   1384\u001b[39m \u001b[38;5;28;01mwith\u001b[39;00m config_context(\n\u001b[32m   1385\u001b[39m     skip_parameter_validation=(\n\u001b[32m   1386\u001b[39m         prefer_skip_nested_validation \u001b[38;5;129;01mor\u001b[39;00m global_skip_validation\n\u001b[32m   1387\u001b[39m     )\n\u001b[32m   1388\u001b[39m ):\n\u001b[32m-> \u001b[39m\u001b[32m1389\u001b[39m     \u001b[38;5;28;01mreturn\u001b[39;00m \u001b[43mfit_method\u001b[49m\u001b[43m(\u001b[49m\u001b[43mestimator\u001b[49m\u001b[43m,\u001b[49m\u001b[43m \u001b[49m\u001b[43m*\u001b[49m\u001b[43margs\u001b[49m\u001b[43m,\u001b[49m\u001b[43m \u001b[49m\u001b[43m*\u001b[49m\u001b[43m*\u001b[49m\u001b[43mkwargs\u001b[49m\u001b[43m)\u001b[49m\n",
      "\u001b[36mFile \u001b[39m\u001b[32m~/Desktop/venvs/pytorch/lib/python3.12/site-packages/sklearn/tree/_classes.py:1024\u001b[39m, in \u001b[36mDecisionTreeClassifier.fit\u001b[39m\u001b[34m(self, X, y, sample_weight, check_input)\u001b[39m\n\u001b[32m    993\u001b[39m \u001b[38;5;129m@_fit_context\u001b[39m(prefer_skip_nested_validation=\u001b[38;5;28;01mTrue\u001b[39;00m)\n\u001b[32m    994\u001b[39m \u001b[38;5;28;01mdef\u001b[39;00m\u001b[38;5;250m \u001b[39m\u001b[34mfit\u001b[39m(\u001b[38;5;28mself\u001b[39m, X, y, sample_weight=\u001b[38;5;28;01mNone\u001b[39;00m, check_input=\u001b[38;5;28;01mTrue\u001b[39;00m):\n\u001b[32m    995\u001b[39m \u001b[38;5;250m    \u001b[39m\u001b[33;03m\"\"\"Build a decision tree classifier from the training set (X, y).\u001b[39;00m\n\u001b[32m    996\u001b[39m \n\u001b[32m    997\u001b[39m \u001b[33;03m    Parameters\u001b[39;00m\n\u001b[32m   (...)\u001b[39m\u001b[32m   1021\u001b[39m \u001b[33;03m        Fitted estimator.\u001b[39;00m\n\u001b[32m   1022\u001b[39m \u001b[33;03m    \"\"\"\u001b[39;00m\n\u001b[32m-> \u001b[39m\u001b[32m1024\u001b[39m     \u001b[38;5;28;43msuper\u001b[39;49m\u001b[43m(\u001b[49m\u001b[43m)\u001b[49m\u001b[43m.\u001b[49m\u001b[43m_fit\u001b[49m\u001b[43m(\u001b[49m\n\u001b[32m   1025\u001b[39m \u001b[43m        \u001b[49m\u001b[43mX\u001b[49m\u001b[43m,\u001b[49m\n\u001b[32m   1026\u001b[39m \u001b[43m        \u001b[49m\u001b[43my\u001b[49m\u001b[43m,\u001b[49m\n\u001b[32m   1027\u001b[39m \u001b[43m        \u001b[49m\u001b[43msample_weight\u001b[49m\u001b[43m=\u001b[49m\u001b[43msample_weight\u001b[49m\u001b[43m,\u001b[49m\n\u001b[32m   1028\u001b[39m \u001b[43m        \u001b[49m\u001b[43mcheck_input\u001b[49m\u001b[43m=\u001b[49m\u001b[43mcheck_input\u001b[49m\u001b[43m,\u001b[49m\n\u001b[32m   1029\u001b[39m \u001b[43m    \u001b[49m\u001b[43m)\u001b[49m\n\u001b[32m   1030\u001b[39m     \u001b[38;5;28;01mreturn\u001b[39;00m \u001b[38;5;28mself\u001b[39m\n",
      "\u001b[36mFile \u001b[39m\u001b[32m~/Desktop/venvs/pytorch/lib/python3.12/site-packages/sklearn/tree/_classes.py:252\u001b[39m, in \u001b[36mBaseDecisionTree._fit\u001b[39m\u001b[34m(self, X, y, sample_weight, check_input, missing_values_in_feature_mask)\u001b[39m\n\u001b[32m    248\u001b[39m check_X_params = \u001b[38;5;28mdict\u001b[39m(\n\u001b[32m    249\u001b[39m     dtype=DTYPE, accept_sparse=\u001b[33m\"\u001b[39m\u001b[33mcsc\u001b[39m\u001b[33m\"\u001b[39m, ensure_all_finite=\u001b[38;5;28;01mFalse\u001b[39;00m\n\u001b[32m    250\u001b[39m )\n\u001b[32m    251\u001b[39m check_y_params = \u001b[38;5;28mdict\u001b[39m(ensure_2d=\u001b[38;5;28;01mFalse\u001b[39;00m, dtype=\u001b[38;5;28;01mNone\u001b[39;00m)\n\u001b[32m--> \u001b[39m\u001b[32m252\u001b[39m X, y = \u001b[43mvalidate_data\u001b[49m\u001b[43m(\u001b[49m\n\u001b[32m    253\u001b[39m \u001b[43m    \u001b[49m\u001b[38;5;28;43mself\u001b[39;49m\u001b[43m,\u001b[49m\u001b[43m \u001b[49m\u001b[43mX\u001b[49m\u001b[43m,\u001b[49m\u001b[43m \u001b[49m\u001b[43my\u001b[49m\u001b[43m,\u001b[49m\u001b[43m \u001b[49m\u001b[43mvalidate_separately\u001b[49m\u001b[43m=\u001b[49m\u001b[43m(\u001b[49m\u001b[43mcheck_X_params\u001b[49m\u001b[43m,\u001b[49m\u001b[43m \u001b[49m\u001b[43mcheck_y_params\u001b[49m\u001b[43m)\u001b[49m\n\u001b[32m    254\u001b[39m \u001b[43m\u001b[49m\u001b[43m)\u001b[49m\n\u001b[32m    256\u001b[39m missing_values_in_feature_mask = (\n\u001b[32m    257\u001b[39m     \u001b[38;5;28mself\u001b[39m._compute_missing_values_in_feature_mask(X)\n\u001b[32m    258\u001b[39m )\n\u001b[32m    259\u001b[39m \u001b[38;5;28;01mif\u001b[39;00m issparse(X):\n",
      "\u001b[36mFile \u001b[39m\u001b[32m~/Desktop/venvs/pytorch/lib/python3.12/site-packages/sklearn/utils/validation.py:2956\u001b[39m, in \u001b[36mvalidate_data\u001b[39m\u001b[34m(_estimator, X, y, reset, validate_separately, skip_check_array, **check_params)\u001b[39m\n\u001b[32m   2954\u001b[39m \u001b[38;5;28;01mif\u001b[39;00m \u001b[33m\"\u001b[39m\u001b[33mestimator\u001b[39m\u001b[33m\"\u001b[39m \u001b[38;5;129;01mnot\u001b[39;00m \u001b[38;5;129;01min\u001b[39;00m check_X_params:\n\u001b[32m   2955\u001b[39m     check_X_params = {**default_check_params, **check_X_params}\n\u001b[32m-> \u001b[39m\u001b[32m2956\u001b[39m X = \u001b[43mcheck_array\u001b[49m\u001b[43m(\u001b[49m\u001b[43mX\u001b[49m\u001b[43m,\u001b[49m\u001b[43m \u001b[49m\u001b[43minput_name\u001b[49m\u001b[43m=\u001b[49m\u001b[33;43m\"\u001b[39;49m\u001b[33;43mX\u001b[39;49m\u001b[33;43m\"\u001b[39;49m\u001b[43m,\u001b[49m\u001b[43m \u001b[49m\u001b[43m*\u001b[49m\u001b[43m*\u001b[49m\u001b[43mcheck_X_params\u001b[49m\u001b[43m)\u001b[49m\n\u001b[32m   2957\u001b[39m \u001b[38;5;28;01mif\u001b[39;00m \u001b[33m\"\u001b[39m\u001b[33mestimator\u001b[39m\u001b[33m\"\u001b[39m \u001b[38;5;129;01mnot\u001b[39;00m \u001b[38;5;129;01min\u001b[39;00m check_y_params:\n\u001b[32m   2958\u001b[39m     check_y_params = {**default_check_params, **check_y_params}\n",
      "\u001b[36mFile \u001b[39m\u001b[32m~/Desktop/venvs/pytorch/lib/python3.12/site-packages/sklearn/utils/validation.py:931\u001b[39m, in \u001b[36mcheck_array\u001b[39m\u001b[34m(array, accept_sparse, accept_large_sparse, dtype, order, copy, force_writeable, force_all_finite, ensure_all_finite, ensure_non_negative, ensure_2d, allow_nd, ensure_min_samples, ensure_min_features, estimator, input_name)\u001b[39m\n\u001b[32m    927\u001b[39m pandas_requires_conversion = \u001b[38;5;28many\u001b[39m(\n\u001b[32m    928\u001b[39m     _pandas_dtype_needs_early_conversion(i) \u001b[38;5;28;01mfor\u001b[39;00m i \u001b[38;5;129;01min\u001b[39;00m dtypes_orig\n\u001b[32m    929\u001b[39m )\n\u001b[32m    930\u001b[39m \u001b[38;5;28;01mif\u001b[39;00m \u001b[38;5;28mall\u001b[39m(\u001b[38;5;28misinstance\u001b[39m(dtype_iter, np.dtype) \u001b[38;5;28;01mfor\u001b[39;00m dtype_iter \u001b[38;5;129;01min\u001b[39;00m dtypes_orig):\n\u001b[32m--> \u001b[39m\u001b[32m931\u001b[39m     dtype_orig = \u001b[43mnp\u001b[49m\u001b[43m.\u001b[49m\u001b[43mresult_type\u001b[49m\u001b[43m(\u001b[49m\u001b[43m*\u001b[49m\u001b[43mdtypes_orig\u001b[49m\u001b[43m)\u001b[49m\n\u001b[32m    932\u001b[39m \u001b[38;5;28;01melif\u001b[39;00m pandas_requires_conversion \u001b[38;5;129;01mand\u001b[39;00m \u001b[38;5;28many\u001b[39m(d == \u001b[38;5;28mobject\u001b[39m \u001b[38;5;28;01mfor\u001b[39;00m d \u001b[38;5;129;01min\u001b[39;00m dtypes_orig):\n\u001b[32m    933\u001b[39m     \u001b[38;5;66;03m# Force object if any of the dtypes is an object\u001b[39;00m\n\u001b[32m    934\u001b[39m     dtype_orig = \u001b[38;5;28mobject\u001b[39m\n",
      "\u001b[31mValueError\u001b[39m: at least one array or dtype is required"
     ]
    }
   ],
   "source": [
    "get_decision_tree_svg(csv_file=\"result/suit/suit_expert.csv\", result_path=\"result\", target_label=\"pred_label\")\n",
    "get_decision_tree_svg(csv_file=\"result/suit/suit_expert.csv\", result_path=\"result\", target_label=\"true_label\")\n",
    "get_decision_tree_svg(csv_file=\"result/category/category_expert.csv\", result_path=\"result\", target_label=\"pred_label\")\n",
    "get_decision_tree_svg(csv_file=\"result/category/category_expert.csv\", result_path=\"result\", target_label=\"true_label\")"
   ]
  }
 ],
 "metadata": {
  "kernelspec": {
   "display_name": "pytorch",
   "language": "python",
   "name": "python3"
  },
  "language_info": {
   "codemirror_mode": {
    "name": "ipython",
    "version": 3
   },
   "file_extension": ".py",
   "mimetype": "text/x-python",
   "name": "python",
   "nbconvert_exporter": "python",
   "pygments_lexer": "ipython3",
   "version": "3.12.3"
  }
 },
 "nbformat": 4,
 "nbformat_minor": 5
}
