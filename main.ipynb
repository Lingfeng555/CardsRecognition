{
 "cells": [
  {
   "cell_type": "markdown",
   "metadata": {},
   "source": [
    "# Import"
   ]
  },
  {
   "cell_type": "code",
   "execution_count": 1,
   "metadata": {},
   "outputs": [
    {
     "name": "stdout",
     "output_type": "stream",
     "text": [
      "Currently using cuda\n"
     ]
    }
   ],
   "source": [
    "import pandas as pd\n",
    "import os\n",
    "import torch\n",
    "import torchvision.models as models\n",
    "import torch.nn as nn\n",
    "from torch.utils.data import Dataset, DataLoader\n",
    "import torch.optim as optim\n",
    "import matplotlib.pyplot as plt\n",
    "import numpy as np\n",
    "import random\n",
    "import cv2\n",
    "from utils.Perspectiver import Perspectiver\n",
    "from utils.Loader import CardsDataset\n",
    "from arquitecture.CardsClassifier import CardClassifier\n",
    "\n",
    "DEVICE = torch.device(\"cuda\" if torch.cuda.is_available() else \"cpu\")\n",
    "print(\"Currently using\", DEVICE)"
   ]
  },
  {
   "cell_type": "markdown",
   "metadata": {},
   "source": [
    "# Dataset scale testing"
   ]
  },
  {
   "cell_type": "code",
   "execution_count": null,
   "metadata": {},
   "outputs": [],
   "source": [
    "CardsDataset().data.head()"
   ]
  },
  {
   "cell_type": "code",
   "execution_count": null,
   "metadata": {},
   "outputs": [],
   "source": [
    "scale_1 = 1\n",
    "scale_2 = 0.60\n",
    "dataset_scale_100 = CardsDataset(scale=scale_1)\n",
    "dataset_scale_050 = CardsDataset(scale=scale_2)"
   ]
  },
  {
   "cell_type": "code",
   "execution_count": null,
   "metadata": {},
   "outputs": [],
   "source": [
    "import random\n",
    "idx = random.randint(0, len(dataset_scale_050))\n",
    "img_1 , label_1 = dataset_scale_100.__getitem__(idx)\n",
    "img_2 , label_2 = dataset_scale_050.__getitem__(idx)\n",
    "Perspectiver.plotComparison(imageBefore = Perspectiver.grayscale_to_rgb(img_1.numpy()[0]) , \n",
    "                            imageAfter = Perspectiver.grayscale_to_rgb(img_2.numpy()[0]) , \n",
    "                            titleBefore = f\"{dataset_scale_100.decode_label(label_1)} {scale_1*100}% {img_1.size()} \",\n",
    "                            titleAfter = f\"{dataset_scale_050.decode_label(label_2)} {scale_2*100}% {img_2.size()} \"\n",
    "                            )"
   ]
  },
  {
   "cell_type": "markdown",
   "metadata": {},
   "source": [
    "# Training process"
   ]
  },
  {
   "cell_type": "markdown",
   "metadata": {},
   "source": [
    "## Hyperparameters"
   ]
  },
  {
   "cell_type": "code",
   "execution_count": 2,
   "metadata": {},
   "outputs": [],
   "source": [
    "EPOCH = 100\n",
    "BATCH_SIZE = 600\n",
    "NUN_WORKERS = 8\n",
    "LR = 0.003\n",
    "SEED = 555"
   ]
  },
  {
   "cell_type": "code",
   "execution_count": 3,
   "metadata": {},
   "outputs": [],
   "source": [
    "def set_torch_seed(seed: int = 555):\n",
    "    torch.manual_seed(seed)\n",
    "    if torch.cuda.is_available():\n",
    "        torch.cuda.manual_seed(seed)\n",
    "        torch.cuda.manual_seed_all(seed)  # For multi-GPU setups\n",
    "    np.random.seed(seed)\n",
    "    random.seed(seed)\n",
    "    torch.backends.cudnn.deterministic = True\n",
    "    torch.backends.cudnn.benchmark = False\n",
    "    \n",
    "set_torch_seed(SEED)"
   ]
  },
  {
   "cell_type": "code",
   "execution_count": 4,
   "metadata": {},
   "outputs": [],
   "source": [
    "def save_checkpoint(model, epoch, optimizer, loss, name):\n",
    "        torch.save({\n",
    "            'epoch': epoch,\n",
    "            'model_state_dict': model.state_dict(),\n",
    "            'optimizer_state_dict': optimizer.state_dict(),\n",
    "            'loss': loss,\n",
    "        }, f\"models/checkpoints/{name}.pth\")\n",
    "\n",
    "def validation(model, valid_loader, criterion, device):\n",
    "        valid_loss = 0.0\n",
    "        correct = 0\n",
    "        with torch.no_grad():\n",
    "            for inputs, labels in valid_loader:\n",
    "                outputs = model(inputs.to(device))\n",
    "                loss = criterion(outputs, torch.argmax(labels.to(device), dim=1))\n",
    "                valid_loss += loss.item() * inputs.size(0)\n",
    "                \n",
    "                x, preds = torch.max(outputs, dim=1)\n",
    "                correct += (preds == torch.argmax(labels.to(device), dim=1)).sum().item()\n",
    "        \n",
    "        valid_loss = valid_loss / len(valid_loader.dataset)\n",
    "        valid_prec = correct / len(valid_loader.dataset)\n",
    "\n",
    "        return valid_loss, valid_prec\n",
    "    \n",
    "def training(model, optimizer, criterion, train_loader, valid_loader, name, device, epochs):\n",
    "    max_prec = 0\n",
    "    train_loss_record = []\n",
    "    valid_loss_record = []\n",
    "    for epoch in range(epochs):\n",
    "        model.train()\n",
    "        train_loss = 0.0\n",
    "        \n",
    "        for inputs, labels in train_loader:\n",
    "            optimizer.zero_grad()\n",
    "            outputs = model(inputs.to(device))\n",
    "            loss = criterion(outputs, torch.argmax(labels.to(device), dim=1))\n",
    "            \n",
    "            loss.backward()\n",
    "            optimizer.step()\n",
    "            \n",
    "            train_loss += loss.item() * inputs.size(0)\n",
    "\n",
    "        train_loss = train_loss / len(train_loader.dataset)\n",
    "        model.eval()\n",
    "        \n",
    "        valid_loss, valid_prec = validation(model, valid_loader, criterion, device)\n",
    "        if valid_prec > max_prec:\n",
    "            save_checkpoint(model, epoch, optimizer, loss, name)\n",
    "            max_prec = valid_prec\n",
    "        \n",
    "        train_loss_record.append(train_loss)\n",
    "        valid_loss_record.append(valid_loss)\n",
    "        print(f\"EPOCH {epoch+1}/{epochs} - Training Loss: {train_loss:.4f} - Validation Loss: {valid_loss:.4f} - Validation Precision: {valid_prec:.4f}\")\n",
    "        \n",
    "    return train_loss_record, valid_loss_record"
   ]
  },
  {
   "cell_type": "markdown",
   "metadata": {},
   "source": [
    "# Suit"
   ]
  },
  {
   "cell_type": "code",
   "execution_count": 6,
   "metadata": {},
   "outputs": [
    {
     "name": "stdout",
     "output_type": "stream",
     "text": [
      "256845\n"
     ]
    }
   ],
   "source": [
    "csv_file = \"cards.csv\"\n",
    "target = \"suit\"\n",
    "\n",
    "train_dataset = CardsDataset(scale=0.6, split=\"train\", csv_file=csv_file, target=target)\n",
    "test_dataset = CardsDataset(scale=0.6, split=\"test\", csv_file=csv_file, target=target)\n",
    "valid_dataset = CardsDataset(scale=0.6, split=\"valid\", csv_file=csv_file, target=target)\n",
    "\n",
    "train_loader = DataLoader(train_dataset, batch_size=BATCH_SIZE, shuffle=True, num_workers=NUN_WORKERS)\n",
    "valid_loader = DataLoader(valid_dataset, batch_size=BATCH_SIZE, shuffle=True, num_workers=NUN_WORKERS)\n",
    "test_loader  = DataLoader(test_dataset,  batch_size=BATCH_SIZE, shuffle=True, num_workers=NUN_WORKERS)\n",
    "\n",
    "_, label = test_dataset.__getitem__(1)\n",
    "\n",
    "classifier = CardClassifier(image_size=torch.Size((134, 134)), \n",
    "                            convolution_structure=[1,8,8,16,16,24,24,32,32],\n",
    "                            expert_output_len=3,\n",
    "                            output_len=len(label),\n",
    "                            pool_depth=2\n",
    "                            ).to(DEVICE)\n",
    "\n",
    "\n",
    "print(classifier.n_parameters())\n",
    "\n",
    "classifier.save_config(\"result/suit_config.json\")"
   ]
  },
  {
   "cell_type": "code",
   "execution_count": null,
   "metadata": {},
   "outputs": [],
   "source": [
    "criterion = nn.CrossEntropyLoss(reduction = \"mean\")\n",
    "\n",
    "optimizer = optim.Adam(classifier.parameters(), lr=LR)\n",
    "\n",
    "os.makedirs(f\"models/checkpoints/\", exist_ok=True)"
   ]
  },
  {
   "cell_type": "code",
   "execution_count": null,
   "metadata": {},
   "outputs": [],
   "source": [
    "train_loss_record, valid_loss_record = training(model=classifier, \n",
    "         optimizer=optimizer, \n",
    "         criterion=criterion,\n",
    "         train_loader=train_loader,\n",
    "         valid_loader=valid_loader,\n",
    "         name=\"suit_classifier_checkpoint\",\n",
    "         device=DEVICE,\n",
    "         epochs=EPOCH\n",
    "         )\n",
    "\n",
    "plt.figure(figsize=(10, 6))\n",
    "plt.plot(train_loss_record, label=\"Training Loss\")\n",
    "plt.plot(valid_loss_record, label=\"Validation Loss\")\n",
    "plt.xlabel(\"Epochs\")\n",
    "plt.ylabel(\"Loss\")\n",
    "plt.title(\"Training and Validation Loss History\")\n",
    "plt.legend()\n",
    "plt.grid(True)\n",
    "plt.show()"
   ]
  },
  {
   "cell_type": "markdown",
   "metadata": {},
   "source": [
    "# Category"
   ]
  },
  {
   "cell_type": "code",
   "execution_count": null,
   "metadata": {},
   "outputs": [],
   "source": [
    "set_torch_seed(5)"
   ]
  },
  {
   "cell_type": "code",
   "execution_count": null,
   "metadata": {},
   "outputs": [
    {
     "name": "stdout",
     "output_type": "stream",
     "text": [
      "259058\n"
     ]
    },
    {
     "ename": "FileNotFoundError",
     "evalue": "[Errno 2] No such file or directory: 'results/category_config.json'",
     "output_type": "error",
     "traceback": [
      "\u001b[31m---------------------------------------------------------------------------\u001b[39m",
      "\u001b[31mFileNotFoundError\u001b[39m                         Traceback (most recent call last)",
      "\u001b[36mCell\u001b[39m\u001b[36m \u001b[39m\u001b[32mIn[7]\u001b[39m\u001b[32m, line 23\u001b[39m\n\u001b[32m     14\u001b[39m classifier = CardClassifier(image_size=torch.Size((\u001b[32m134\u001b[39m, \u001b[32m134\u001b[39m)), \n\u001b[32m     15\u001b[39m                             convolution_structure=[\u001b[32m1\u001b[39m,\u001b[32m12\u001b[39m,\u001b[32m12\u001b[39m,\u001b[32m16\u001b[39m,\u001b[32m16\u001b[39m,\u001b[32m24\u001b[39m,\u001b[32m24\u001b[39m,\u001b[32m32\u001b[39m,\u001b[32m32\u001b[39m],\n\u001b[32m     16\u001b[39m                             expert_output_len=\u001b[32m3\u001b[39m, \u001b[38;5;66;03m# 3  -> 0.7\u001b[39;00m\n\u001b[32m     17\u001b[39m                             output_len=\u001b[38;5;28mlen\u001b[39m(label),\n\u001b[32m     18\u001b[39m                             pool_depth=\u001b[32m2\u001b[39m\n\u001b[32m     19\u001b[39m                             ).to(DEVICE)\n\u001b[32m     21\u001b[39m \u001b[38;5;28mprint\u001b[39m(classifier.n_parameters())\n\u001b[32m---> \u001b[39m\u001b[32m23\u001b[39m \u001b[43mclassifier\u001b[49m\u001b[43m.\u001b[49m\u001b[43msave_config\u001b[49m\u001b[43m(\u001b[49m\u001b[33;43m\"\u001b[39;49m\u001b[33;43mresults/category_config.json\u001b[39;49m\u001b[33;43m\"\u001b[39;49m\u001b[43m)\u001b[49m\n",
      "\u001b[36mFile \u001b[39m\u001b[32m~/Desktop/repos/CardsRecognition/arquitecture/CardsClassifier.py:36\u001b[39m, in \u001b[36mCardClassifier.save_config\u001b[39m\u001b[34m(self, path)\u001b[39m\n\u001b[32m     27\u001b[39m \u001b[38;5;28;01mdef\u001b[39;00m\u001b[38;5;250m \u001b[39m\u001b[34msave_config\u001b[39m(\u001b[38;5;28mself\u001b[39m, path: \u001b[38;5;28mstr\u001b[39m) -> \u001b[38;5;28;01mNone\u001b[39;00m:\n\u001b[32m     28\u001b[39m     config = {\n\u001b[32m     29\u001b[39m         \u001b[33m\"\u001b[39m\u001b[33mimage_height\u001b[39m\u001b[33m\"\u001b[39m: \u001b[38;5;28mself\u001b[39m.image_height,\n\u001b[32m     30\u001b[39m         \u001b[33m\"\u001b[39m\u001b[33mimage_width\u001b[39m\u001b[33m\"\u001b[39m: \u001b[38;5;28mself\u001b[39m.image_width,\n\u001b[32m   (...)\u001b[39m\u001b[32m     34\u001b[39m         \u001b[33m\"\u001b[39m\u001b[33mpool_depth\u001b[39m\u001b[33m\"\u001b[39m: \u001b[38;5;28mself\u001b[39m.pool_depth\n\u001b[32m     35\u001b[39m     }\n\u001b[32m---> \u001b[39m\u001b[32m36\u001b[39m     \u001b[38;5;28;01mwith\u001b[39;00m \u001b[38;5;28;43mopen\u001b[39;49m\u001b[43m(\u001b[49m\u001b[43mpath\u001b[49m\u001b[43m,\u001b[49m\u001b[43m \u001b[49m\u001b[33;43m\"\u001b[39;49m\u001b[33;43mw\u001b[39;49m\u001b[33;43m\"\u001b[39;49m\u001b[43m)\u001b[49m \u001b[38;5;28;01mas\u001b[39;00m f:\n\u001b[32m     37\u001b[39m         json.dump(config, f)\n",
      "\u001b[31mFileNotFoundError\u001b[39m: [Errno 2] No such file or directory: 'results/category_config.json'"
     ]
    }
   ],
   "source": [
    "csv_file = \"cards.csv\"\n",
    "target = \"category\"\n",
    "\n",
    "train_dataset = CardsDataset(scale=0.6, split=\"train\", csv_file=csv_file, target=target)\n",
    "test_dataset = CardsDataset(scale=0.6, split=\"test\", csv_file=csv_file, target=target)\n",
    "valid_dataset = CardsDataset(scale=0.6, split=\"valid\", csv_file=csv_file, target=target)\n",
    "\n",
    "train_loader = DataLoader(train_dataset, batch_size=BATCH_SIZE, shuffle=True, num_workers=NUN_WORKERS)\n",
    "valid_loader = DataLoader(valid_dataset, batch_size=BATCH_SIZE, shuffle=True, num_workers=NUN_WORKERS)\n",
    "test_loader  = DataLoader(test_dataset,  batch_size=BATCH_SIZE, shuffle=True, num_workers=NUN_WORKERS)\n",
    "\n",
    "_, label = test_dataset.__getitem__(1)\n",
    "\n",
    "classifier = CardClassifier(image_size=torch.Size((134, 134)), \n",
    "                            convolution_structure=[1,12,12,16,16,24,24,32,32],\n",
    "                            expert_output_len=3, # 3  -> 0.7\n",
    "                            output_len=len(label),\n",
    "                            pool_depth=2\n",
    "                            ).to(DEVICE)\n",
    "\n",
    "print(classifier.n_parameters())\n",
    "\n",
    "classifier.save_config(\"result/category_config.json\")"
   ]
  },
  {
   "cell_type": "code",
   "execution_count": null,
   "metadata": {},
   "outputs": [],
   "source": [
    "criterion = nn.CrossEntropyLoss(reduction = \"mean\")\n",
    "\n",
    "optimizer = optim.Adam(classifier.parameters(), lr=LR)\n",
    "\n",
    "train_loss_record, valid_loss_record = training(model=classifier, \n",
    "         optimizer=optimizer, \n",
    "         criterion=criterion,\n",
    "         train_loader=train_loader,\n",
    "         valid_loader=valid_loader,\n",
    "         name=\"category_classifier_checkpoint\",\n",
    "         device=DEVICE,\n",
    "         epochs=(EPOCH*2)\n",
    "         )\n",
    "\n",
    "# Plotting the loss history\n",
    "plt.figure(figsize=(10, 6))\n",
    "plt.plot(train_loss_record, label=\"Training Loss\")\n",
    "plt.plot(valid_loss_record, label=\"Validation Loss\")\n",
    "plt.xlabel(\"Epochs\")\n",
    "plt.ylabel(\"Loss\")\n",
    "plt.title(\"Training and Validation Loss History\")\n",
    "plt.legend()\n",
    "plt.grid(True)\n",
    "plt.show()"
   ]
  }
 ],
 "metadata": {
  "kernelspec": {
   "display_name": "pytorch",
   "language": "python",
   "name": "python3"
  },
  "language_info": {
   "codemirror_mode": {
    "name": "ipython",
    "version": 3
   },
   "file_extension": ".py",
   "mimetype": "text/x-python",
   "name": "python",
   "nbconvert_exporter": "python",
   "pygments_lexer": "ipython3",
   "version": "3.12.3"
  }
 },
 "nbformat": 4,
 "nbformat_minor": 2
}
